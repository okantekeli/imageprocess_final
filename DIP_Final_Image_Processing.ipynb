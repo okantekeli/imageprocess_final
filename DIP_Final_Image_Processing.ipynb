{
  "nbformat": 4,
  "nbformat_minor": 0,
  "metadata": {
    "kernelspec": {
      "display_name": "Python 3",
      "language": "python",
      "name": "python3"
    },
    "language_info": {
      "codemirror_mode": {
        "name": "ipython",
        "version": 3
      },
      "file_extension": ".py",
      "mimetype": "text/x-python",
      "name": "python",
      "nbconvert_exporter": "python",
      "pygments_lexer": "ipython3",
      "version": "3.6.3"
    },
    "colab": {
      "provenance": [],
      "toc_visible": true,
      "include_colab_link": true
    }
  },
  "cells": [
    {
      "cell_type": "markdown",
      "metadata": {
        "id": "view-in-github",
        "colab_type": "text"
      },
      "source": [
        "<a href=\"https://colab.research.google.com/github/okantekeli/imageprocess_final/blob/main/DIP_Final_Image_Processing.ipynb\" target=\"_parent\"><img src=\"https://colab.research.google.com/assets/colab-badge.svg\" alt=\"Open In Colab\"/></a>"
      ]
    },
    {
      "cell_type": "markdown",
      "metadata": {
        "id": "PubRtJs8srnN"
      },
      "source": [
        "\n",
        "\n",
        "```\n",
        "# This is formatted as code\n",
        "```\n",
        "\n",
        "# FINAL"
      ]
    },
    {
      "cell_type": "markdown",
      "source": [
        "# Kütüphane Yükleme"
      ],
      "metadata": {
        "id": "8FmMIxgNMu6A"
      }
    },
    {
      "cell_type": "code",
      "metadata": {
        "id": "JNkjbT2DsrnU"
      },
      "source": [
        "# 1. Kütüphanelerin içe aktarılması\n",
        "import pandas as pd\n",
        "from skimage import exposure\n",
        "import numpy as np\n",
        "from google.colab.patches import cv2_imshow\n",
        "import cv2 as cv\n",
        "from scipy.ndimage import zoom\n",
        "import matplotlib.pyplot as plt\n",
        "%matplotlib inline\n",
        "import os\n",
        "import seaborn as sns\n",
        "sns.set()\n",
        "from PIL import Image"
      ],
      "execution_count": null,
      "outputs": []
    },
    {
      "cell_type": "code",
      "metadata": {
        "id": "XKW0DJqj4QE7",
        "outputId": "c36ec574-d5bc-4c96-f2e2-0be772526510",
        "colab": {
          "base_uri": "https://localhost:8080/"
        },
        "collapsed": true
      },
      "source": [
        "#resimlerin clone edilmesi\n",
        "!git clone https://github.com/hardik0/AI-for-Medicine-Specialization\n",
        "%cd AI-for-Medicine-Specialization/AI-for-Medical-Diagnosis/"
      ],
      "execution_count": null,
      "outputs": [
        {
          "output_type": "stream",
          "name": "stdout",
          "text": [
            "Cloning into 'AI-for-Medicine-Specialization'...\n",
            "remote: Enumerating objects: 1601, done.\u001b[K\n",
            "remote: Counting objects: 100% (28/28), done.\u001b[K\n",
            "remote: Compressing objects: 100% (28/28), done.\u001b[K\n",
            "remote: Total 1601 (delta 9), reused 2 (delta 0), pack-reused 1573 (from 1)\u001b[K\n",
            "Receiving objects: 100% (1601/1601), 720.36 MiB | 30.72 MiB/s, done.\n",
            "Resolving deltas: 100% (30/30), done.\n",
            "Updating files: 100% (1497/1497), done.\n",
            "/content/AI-for-Medicine-Specialization/AI-for-Medical-Diagnosis/AI-for-Medicine-Specialization/AI-for-Medical-Diagnosis\n"
          ]
        }
      ]
    },
    {
      "cell_type": "code",
      "metadata": {
        "id": "hhLst4P64c7T",
        "outputId": "e805c09e-a28b-45e3-ae60-109b665dcdd9",
        "colab": {
          "base_uri": "https://localhost:8080/"
        },
        "collapsed": true
      },
      "source": [
        "%ls nih/"
      ],
      "execution_count": null,
      "outputs": [
        {
          "output_type": "stream",
          "name": "stdout",
          "text": [
            "densenet.hdf5  \u001b[0m\u001b[01;34mimages_small\u001b[0m/  pretrained_model.h5  test.csv  train-small.csv  valid-small.csv\n"
          ]
        }
      ]
    },
    {
      "cell_type": "code",
      "metadata": {
        "id": "sxiQf-9Vsrni",
        "outputId": "f4eae66f-0b2e-4444-e3b2-ab4e8388e646",
        "colab": {
          "base_uri": "https://localhost:8080/",
          "height": 224
        },
        "collapsed": true
      },
      "source": [
        "# DF'in oluşturulması ve kontrolü\n",
        "train_df = pd.read_csv(\"nih/train-small.csv\")\n",
        "print(f'There are {train_df.shape[0]} rows and {train_df.shape[1]} columns in this data frame')\n",
        "train_df.head()"
      ],
      "execution_count": null,
      "outputs": [
        {
          "output_type": "stream",
          "name": "stdout",
          "text": [
            "There are 1000 rows and 16 columns in this data frame\n"
          ]
        },
        {
          "output_type": "execute_result",
          "data": {
            "text/plain": [
              "              Image  Atelectasis  Cardiomegaly  Consolidation  Edema  \\\n",
              "0  00008270_015.png            0             0              0      0   \n",
              "1  00029855_001.png            1             0              0      0   \n",
              "2  00001297_000.png            0             0              0      0   \n",
              "3  00012359_002.png            0             0              0      0   \n",
              "4  00017951_001.png            0             0              0      0   \n",
              "\n",
              "   Effusion  Emphysema  Fibrosis  Hernia  Infiltration  Mass  Nodule  \\\n",
              "0         0          0         0       0             0     0       0   \n",
              "1         1          0         0       0             1     0       0   \n",
              "2         0          0         0       0             0     0       0   \n",
              "3         0          0         0       0             0     0       0   \n",
              "4         0          0         0       0             1     0       0   \n",
              "\n",
              "   PatientId  Pleural_Thickening  Pneumonia  Pneumothorax  \n",
              "0       8270                   0          0             0  \n",
              "1      29855                   0          0             0  \n",
              "2       1297                   1          0             0  \n",
              "3      12359                   0          0             0  \n",
              "4      17951                   0          0             0  "
            ],
            "text/html": [
              "\n",
              "  <div id=\"df-926d40c1-0898-4eec-ac08-6439b3c71842\" class=\"colab-df-container\">\n",
              "    <div>\n",
              "<style scoped>\n",
              "    .dataframe tbody tr th:only-of-type {\n",
              "        vertical-align: middle;\n",
              "    }\n",
              "\n",
              "    .dataframe tbody tr th {\n",
              "        vertical-align: top;\n",
              "    }\n",
              "\n",
              "    .dataframe thead th {\n",
              "        text-align: right;\n",
              "    }\n",
              "</style>\n",
              "<table border=\"1\" class=\"dataframe\">\n",
              "  <thead>\n",
              "    <tr style=\"text-align: right;\">\n",
              "      <th></th>\n",
              "      <th>Image</th>\n",
              "      <th>Atelectasis</th>\n",
              "      <th>Cardiomegaly</th>\n",
              "      <th>Consolidation</th>\n",
              "      <th>Edema</th>\n",
              "      <th>Effusion</th>\n",
              "      <th>Emphysema</th>\n",
              "      <th>Fibrosis</th>\n",
              "      <th>Hernia</th>\n",
              "      <th>Infiltration</th>\n",
              "      <th>Mass</th>\n",
              "      <th>Nodule</th>\n",
              "      <th>PatientId</th>\n",
              "      <th>Pleural_Thickening</th>\n",
              "      <th>Pneumonia</th>\n",
              "      <th>Pneumothorax</th>\n",
              "    </tr>\n",
              "  </thead>\n",
              "  <tbody>\n",
              "    <tr>\n",
              "      <th>0</th>\n",
              "      <td>00008270_015.png</td>\n",
              "      <td>0</td>\n",
              "      <td>0</td>\n",
              "      <td>0</td>\n",
              "      <td>0</td>\n",
              "      <td>0</td>\n",
              "      <td>0</td>\n",
              "      <td>0</td>\n",
              "      <td>0</td>\n",
              "      <td>0</td>\n",
              "      <td>0</td>\n",
              "      <td>0</td>\n",
              "      <td>8270</td>\n",
              "      <td>0</td>\n",
              "      <td>0</td>\n",
              "      <td>0</td>\n",
              "    </tr>\n",
              "    <tr>\n",
              "      <th>1</th>\n",
              "      <td>00029855_001.png</td>\n",
              "      <td>1</td>\n",
              "      <td>0</td>\n",
              "      <td>0</td>\n",
              "      <td>0</td>\n",
              "      <td>1</td>\n",
              "      <td>0</td>\n",
              "      <td>0</td>\n",
              "      <td>0</td>\n",
              "      <td>1</td>\n",
              "      <td>0</td>\n",
              "      <td>0</td>\n",
              "      <td>29855</td>\n",
              "      <td>0</td>\n",
              "      <td>0</td>\n",
              "      <td>0</td>\n",
              "    </tr>\n",
              "    <tr>\n",
              "      <th>2</th>\n",
              "      <td>00001297_000.png</td>\n",
              "      <td>0</td>\n",
              "      <td>0</td>\n",
              "      <td>0</td>\n",
              "      <td>0</td>\n",
              "      <td>0</td>\n",
              "      <td>0</td>\n",
              "      <td>0</td>\n",
              "      <td>0</td>\n",
              "      <td>0</td>\n",
              "      <td>0</td>\n",
              "      <td>0</td>\n",
              "      <td>1297</td>\n",
              "      <td>1</td>\n",
              "      <td>0</td>\n",
              "      <td>0</td>\n",
              "    </tr>\n",
              "    <tr>\n",
              "      <th>3</th>\n",
              "      <td>00012359_002.png</td>\n",
              "      <td>0</td>\n",
              "      <td>0</td>\n",
              "      <td>0</td>\n",
              "      <td>0</td>\n",
              "      <td>0</td>\n",
              "      <td>0</td>\n",
              "      <td>0</td>\n",
              "      <td>0</td>\n",
              "      <td>0</td>\n",
              "      <td>0</td>\n",
              "      <td>0</td>\n",
              "      <td>12359</td>\n",
              "      <td>0</td>\n",
              "      <td>0</td>\n",
              "      <td>0</td>\n",
              "    </tr>\n",
              "    <tr>\n",
              "      <th>4</th>\n",
              "      <td>00017951_001.png</td>\n",
              "      <td>0</td>\n",
              "      <td>0</td>\n",
              "      <td>0</td>\n",
              "      <td>0</td>\n",
              "      <td>0</td>\n",
              "      <td>0</td>\n",
              "      <td>0</td>\n",
              "      <td>0</td>\n",
              "      <td>1</td>\n",
              "      <td>0</td>\n",
              "      <td>0</td>\n",
              "      <td>17951</td>\n",
              "      <td>0</td>\n",
              "      <td>0</td>\n",
              "      <td>0</td>\n",
              "    </tr>\n",
              "  </tbody>\n",
              "</table>\n",
              "</div>\n",
              "    <div class=\"colab-df-buttons\">\n",
              "\n",
              "  <div class=\"colab-df-container\">\n",
              "    <button class=\"colab-df-convert\" onclick=\"convertToInteractive('df-926d40c1-0898-4eec-ac08-6439b3c71842')\"\n",
              "            title=\"Convert this dataframe to an interactive table.\"\n",
              "            style=\"display:none;\">\n",
              "\n",
              "  <svg xmlns=\"http://www.w3.org/2000/svg\" height=\"24px\" viewBox=\"0 -960 960 960\">\n",
              "    <path d=\"M120-120v-720h720v720H120Zm60-500h600v-160H180v160Zm220 220h160v-160H400v160Zm0 220h160v-160H400v160ZM180-400h160v-160H180v160Zm440 0h160v-160H620v160ZM180-180h160v-160H180v160Zm440 0h160v-160H620v160Z\"/>\n",
              "  </svg>\n",
              "    </button>\n",
              "\n",
              "  <style>\n",
              "    .colab-df-container {\n",
              "      display:flex;\n",
              "      gap: 12px;\n",
              "    }\n",
              "\n",
              "    .colab-df-convert {\n",
              "      background-color: #E8F0FE;\n",
              "      border: none;\n",
              "      border-radius: 50%;\n",
              "      cursor: pointer;\n",
              "      display: none;\n",
              "      fill: #1967D2;\n",
              "      height: 32px;\n",
              "      padding: 0 0 0 0;\n",
              "      width: 32px;\n",
              "    }\n",
              "\n",
              "    .colab-df-convert:hover {\n",
              "      background-color: #E2EBFA;\n",
              "      box-shadow: 0px 1px 2px rgba(60, 64, 67, 0.3), 0px 1px 3px 1px rgba(60, 64, 67, 0.15);\n",
              "      fill: #174EA6;\n",
              "    }\n",
              "\n",
              "    .colab-df-buttons div {\n",
              "      margin-bottom: 4px;\n",
              "    }\n",
              "\n",
              "    [theme=dark] .colab-df-convert {\n",
              "      background-color: #3B4455;\n",
              "      fill: #D2E3FC;\n",
              "    }\n",
              "\n",
              "    [theme=dark] .colab-df-convert:hover {\n",
              "      background-color: #434B5C;\n",
              "      box-shadow: 0px 1px 3px 1px rgba(0, 0, 0, 0.15);\n",
              "      filter: drop-shadow(0px 1px 2px rgba(0, 0, 0, 0.3));\n",
              "      fill: #FFFFFF;\n",
              "    }\n",
              "  </style>\n",
              "\n",
              "    <script>\n",
              "      const buttonEl =\n",
              "        document.querySelector('#df-926d40c1-0898-4eec-ac08-6439b3c71842 button.colab-df-convert');\n",
              "      buttonEl.style.display =\n",
              "        google.colab.kernel.accessAllowed ? 'block' : 'none';\n",
              "\n",
              "      async function convertToInteractive(key) {\n",
              "        const element = document.querySelector('#df-926d40c1-0898-4eec-ac08-6439b3c71842');\n",
              "        const dataTable =\n",
              "          await google.colab.kernel.invokeFunction('convertToInteractive',\n",
              "                                                    [key], {});\n",
              "        if (!dataTable) return;\n",
              "\n",
              "        const docLinkHtml = 'Like what you see? Visit the ' +\n",
              "          '<a target=\"_blank\" href=https://colab.research.google.com/notebooks/data_table.ipynb>data table notebook</a>'\n",
              "          + ' to learn more about interactive tables.';\n",
              "        element.innerHTML = '';\n",
              "        dataTable['output_type'] = 'display_data';\n",
              "        await google.colab.output.renderOutput(dataTable, element);\n",
              "        const docLink = document.createElement('div');\n",
              "        docLink.innerHTML = docLinkHtml;\n",
              "        element.appendChild(docLink);\n",
              "      }\n",
              "    </script>\n",
              "  </div>\n",
              "\n",
              "\n",
              "<div id=\"df-874be5e6-bdb3-46b2-bd4f-2f00f81b2bb8\">\n",
              "  <button class=\"colab-df-quickchart\" onclick=\"quickchart('df-874be5e6-bdb3-46b2-bd4f-2f00f81b2bb8')\"\n",
              "            title=\"Suggest charts\"\n",
              "            style=\"display:none;\">\n",
              "\n",
              "<svg xmlns=\"http://www.w3.org/2000/svg\" height=\"24px\"viewBox=\"0 0 24 24\"\n",
              "     width=\"24px\">\n",
              "    <g>\n",
              "        <path d=\"M19 3H5c-1.1 0-2 .9-2 2v14c0 1.1.9 2 2 2h14c1.1 0 2-.9 2-2V5c0-1.1-.9-2-2-2zM9 17H7v-7h2v7zm4 0h-2V7h2v10zm4 0h-2v-4h2v4z\"/>\n",
              "    </g>\n",
              "</svg>\n",
              "  </button>\n",
              "\n",
              "<style>\n",
              "  .colab-df-quickchart {\n",
              "      --bg-color: #E8F0FE;\n",
              "      --fill-color: #1967D2;\n",
              "      --hover-bg-color: #E2EBFA;\n",
              "      --hover-fill-color: #174EA6;\n",
              "      --disabled-fill-color: #AAA;\n",
              "      --disabled-bg-color: #DDD;\n",
              "  }\n",
              "\n",
              "  [theme=dark] .colab-df-quickchart {\n",
              "      --bg-color: #3B4455;\n",
              "      --fill-color: #D2E3FC;\n",
              "      --hover-bg-color: #434B5C;\n",
              "      --hover-fill-color: #FFFFFF;\n",
              "      --disabled-bg-color: #3B4455;\n",
              "      --disabled-fill-color: #666;\n",
              "  }\n",
              "\n",
              "  .colab-df-quickchart {\n",
              "    background-color: var(--bg-color);\n",
              "    border: none;\n",
              "    border-radius: 50%;\n",
              "    cursor: pointer;\n",
              "    display: none;\n",
              "    fill: var(--fill-color);\n",
              "    height: 32px;\n",
              "    padding: 0;\n",
              "    width: 32px;\n",
              "  }\n",
              "\n",
              "  .colab-df-quickchart:hover {\n",
              "    background-color: var(--hover-bg-color);\n",
              "    box-shadow: 0 1px 2px rgba(60, 64, 67, 0.3), 0 1px 3px 1px rgba(60, 64, 67, 0.15);\n",
              "    fill: var(--button-hover-fill-color);\n",
              "  }\n",
              "\n",
              "  .colab-df-quickchart-complete:disabled,\n",
              "  .colab-df-quickchart-complete:disabled:hover {\n",
              "    background-color: var(--disabled-bg-color);\n",
              "    fill: var(--disabled-fill-color);\n",
              "    box-shadow: none;\n",
              "  }\n",
              "\n",
              "  .colab-df-spinner {\n",
              "    border: 2px solid var(--fill-color);\n",
              "    border-color: transparent;\n",
              "    border-bottom-color: var(--fill-color);\n",
              "    animation:\n",
              "      spin 1s steps(1) infinite;\n",
              "  }\n",
              "\n",
              "  @keyframes spin {\n",
              "    0% {\n",
              "      border-color: transparent;\n",
              "      border-bottom-color: var(--fill-color);\n",
              "      border-left-color: var(--fill-color);\n",
              "    }\n",
              "    20% {\n",
              "      border-color: transparent;\n",
              "      border-left-color: var(--fill-color);\n",
              "      border-top-color: var(--fill-color);\n",
              "    }\n",
              "    30% {\n",
              "      border-color: transparent;\n",
              "      border-left-color: var(--fill-color);\n",
              "      border-top-color: var(--fill-color);\n",
              "      border-right-color: var(--fill-color);\n",
              "    }\n",
              "    40% {\n",
              "      border-color: transparent;\n",
              "      border-right-color: var(--fill-color);\n",
              "      border-top-color: var(--fill-color);\n",
              "    }\n",
              "    60% {\n",
              "      border-color: transparent;\n",
              "      border-right-color: var(--fill-color);\n",
              "    }\n",
              "    80% {\n",
              "      border-color: transparent;\n",
              "      border-right-color: var(--fill-color);\n",
              "      border-bottom-color: var(--fill-color);\n",
              "    }\n",
              "    90% {\n",
              "      border-color: transparent;\n",
              "      border-bottom-color: var(--fill-color);\n",
              "    }\n",
              "  }\n",
              "</style>\n",
              "\n",
              "  <script>\n",
              "    async function quickchart(key) {\n",
              "      const quickchartButtonEl =\n",
              "        document.querySelector('#' + key + ' button');\n",
              "      quickchartButtonEl.disabled = true;  // To prevent multiple clicks.\n",
              "      quickchartButtonEl.classList.add('colab-df-spinner');\n",
              "      try {\n",
              "        const charts = await google.colab.kernel.invokeFunction(\n",
              "            'suggestCharts', [key], {});\n",
              "      } catch (error) {\n",
              "        console.error('Error during call to suggestCharts:', error);\n",
              "      }\n",
              "      quickchartButtonEl.classList.remove('colab-df-spinner');\n",
              "      quickchartButtonEl.classList.add('colab-df-quickchart-complete');\n",
              "    }\n",
              "    (() => {\n",
              "      let quickchartButtonEl =\n",
              "        document.querySelector('#df-874be5e6-bdb3-46b2-bd4f-2f00f81b2bb8 button');\n",
              "      quickchartButtonEl.style.display =\n",
              "        google.colab.kernel.accessAllowed ? 'block' : 'none';\n",
              "    })();\n",
              "  </script>\n",
              "</div>\n",
              "\n",
              "    </div>\n",
              "  </div>\n"
            ],
            "application/vnd.google.colaboratory.intrinsic+json": {
              "type": "dataframe",
              "variable_name": "train_df",
              "summary": "{\n  \"name\": \"train_df\",\n  \"rows\": 1000,\n  \"fields\": [\n    {\n      \"column\": \"Image\",\n      \"properties\": {\n        \"dtype\": \"string\",\n        \"num_unique_values\": 1000,\n        \"samples\": [\n          \"00019405_000.png\",\n          \"00011355_002.png\",\n          \"00010827_000.png\"\n        ],\n        \"semantic_type\": \"\",\n        \"description\": \"\"\n      }\n    },\n    {\n      \"column\": \"Atelectasis\",\n      \"properties\": {\n        \"dtype\": \"number\",\n        \"std\": 0,\n        \"min\": 0,\n        \"max\": 1,\n        \"num_unique_values\": 2,\n        \"samples\": [\n          1,\n          0\n        ],\n        \"semantic_type\": \"\",\n        \"description\": \"\"\n      }\n    },\n    {\n      \"column\": \"Cardiomegaly\",\n      \"properties\": {\n        \"dtype\": \"number\",\n        \"std\": 0,\n        \"min\": 0,\n        \"max\": 1,\n        \"num_unique_values\": 2,\n        \"samples\": [\n          1,\n          0\n        ],\n        \"semantic_type\": \"\",\n        \"description\": \"\"\n      }\n    },\n    {\n      \"column\": \"Consolidation\",\n      \"properties\": {\n        \"dtype\": \"number\",\n        \"std\": 0,\n        \"min\": 0,\n        \"max\": 1,\n        \"num_unique_values\": 2,\n        \"samples\": [\n          1,\n          0\n        ],\n        \"semantic_type\": \"\",\n        \"description\": \"\"\n      }\n    },\n    {\n      \"column\": \"Edema\",\n      \"properties\": {\n        \"dtype\": \"number\",\n        \"std\": 0,\n        \"min\": 0,\n        \"max\": 1,\n        \"num_unique_values\": 2,\n        \"samples\": [\n          1,\n          0\n        ],\n        \"semantic_type\": \"\",\n        \"description\": \"\"\n      }\n    },\n    {\n      \"column\": \"Effusion\",\n      \"properties\": {\n        \"dtype\": \"number\",\n        \"std\": 0,\n        \"min\": 0,\n        \"max\": 1,\n        \"num_unique_values\": 2,\n        \"samples\": [\n          1,\n          0\n        ],\n        \"semantic_type\": \"\",\n        \"description\": \"\"\n      }\n    },\n    {\n      \"column\": \"Emphysema\",\n      \"properties\": {\n        \"dtype\": \"number\",\n        \"std\": 0,\n        \"min\": 0,\n        \"max\": 1,\n        \"num_unique_values\": 2,\n        \"samples\": [\n          1,\n          0\n        ],\n        \"semantic_type\": \"\",\n        \"description\": \"\"\n      }\n    },\n    {\n      \"column\": \"Fibrosis\",\n      \"properties\": {\n        \"dtype\": \"number\",\n        \"std\": 0,\n        \"min\": 0,\n        \"max\": 1,\n        \"num_unique_values\": 2,\n        \"samples\": [\n          1,\n          0\n        ],\n        \"semantic_type\": \"\",\n        \"description\": \"\"\n      }\n    },\n    {\n      \"column\": \"Hernia\",\n      \"properties\": {\n        \"dtype\": \"number\",\n        \"std\": 0,\n        \"min\": 0,\n        \"max\": 1,\n        \"num_unique_values\": 2,\n        \"samples\": [\n          1,\n          0\n        ],\n        \"semantic_type\": \"\",\n        \"description\": \"\"\n      }\n    },\n    {\n      \"column\": \"Infiltration\",\n      \"properties\": {\n        \"dtype\": \"number\",\n        \"std\": 0,\n        \"min\": 0,\n        \"max\": 1,\n        \"num_unique_values\": 2,\n        \"samples\": [\n          1,\n          0\n        ],\n        \"semantic_type\": \"\",\n        \"description\": \"\"\n      }\n    },\n    {\n      \"column\": \"Mass\",\n      \"properties\": {\n        \"dtype\": \"number\",\n        \"std\": 0,\n        \"min\": 0,\n        \"max\": 1,\n        \"num_unique_values\": 2,\n        \"samples\": [\n          1,\n          0\n        ],\n        \"semantic_type\": \"\",\n        \"description\": \"\"\n      }\n    },\n    {\n      \"column\": \"Nodule\",\n      \"properties\": {\n        \"dtype\": \"number\",\n        \"std\": 0,\n        \"min\": 0,\n        \"max\": 1,\n        \"num_unique_values\": 2,\n        \"samples\": [\n          1,\n          0\n        ],\n        \"semantic_type\": \"\",\n        \"description\": \"\"\n      }\n    },\n    {\n      \"column\": \"PatientId\",\n      \"properties\": {\n        \"dtype\": \"number\",\n        \"std\": 8622,\n        \"min\": 22,\n        \"max\": 30733,\n        \"num_unique_values\": 928,\n        \"samples\": [\n          30393,\n          11256\n        ],\n        \"semantic_type\": \"\",\n        \"description\": \"\"\n      }\n    },\n    {\n      \"column\": \"Pleural_Thickening\",\n      \"properties\": {\n        \"dtype\": \"number\",\n        \"std\": 0,\n        \"min\": 0,\n        \"max\": 1,\n        \"num_unique_values\": 2,\n        \"samples\": [\n          1,\n          0\n        ],\n        \"semantic_type\": \"\",\n        \"description\": \"\"\n      }\n    },\n    {\n      \"column\": \"Pneumonia\",\n      \"properties\": {\n        \"dtype\": \"number\",\n        \"std\": 0,\n        \"min\": 0,\n        \"max\": 1,\n        \"num_unique_values\": 2,\n        \"samples\": [\n          1,\n          0\n        ],\n        \"semantic_type\": \"\",\n        \"description\": \"\"\n      }\n    },\n    {\n      \"column\": \"Pneumothorax\",\n      \"properties\": {\n        \"dtype\": \"number\",\n        \"std\": 0,\n        \"min\": 0,\n        \"max\": 1,\n        \"num_unique_values\": 2,\n        \"samples\": [\n          1,\n          0\n        ],\n        \"semantic_type\": \"\",\n        \"description\": \"\"\n      }\n    }\n  ]\n}"
            }
          },
          "metadata": {},
          "execution_count": 48
        }
      ]
    },
    {
      "cell_type": "markdown",
      "metadata": {
        "id": "vV1FLzhKsrn0"
      },
      "source": [
        "Have a look at the various columns in this csv file. The file contains the names of chest x-ray images (\"Image\" column) and the columns filled with ones and zeros identify which diagnoses were given based on each x-ray image."
      ]
    },
    {
      "cell_type": "code",
      "metadata": {
        "id": "jKOFozgnsrot"
      },
      "source": [
        "# Gereksiz sütünların silinmesi\n",
        "columns = train_df.keys()\n",
        "columns = list(columns)\n",
        "columns.remove('PatientId')\n"
      ],
      "execution_count": null,
      "outputs": []
    },
    {
      "cell_type": "code",
      "metadata": {
        "id": "LXHxh-0JsrpP"
      },
      "source": [
        "# Resimleri al\n",
        "images = train_df['Image'].values\n",
        "\n",
        "# 9 Adet random resim seç\n",
        "random_images = [np.random.choice(images) for i in range(9)]\n",
        "\n",
        "# Resimlerin okunacağı path beli\n",
        "img_dir = 'nih/images_small/'\n",
        "\n",
        "print('Seçilen 9 Rastgele Resim')\n",
        "\n",
        "# Adjust the size of your images\n",
        "plt.figure(figsize=(20,10))\n",
        "\n",
        "# Iterate and plot random images\n",
        "for i in range(9):\n",
        "    plt.subplot(3, 3, i + 1)\n",
        "    img = plt.imread(os.path.join(img_dir, random_images[i]))\n",
        "    plt.title(random_images[i])\n",
        "    plt.imshow(img, cmap='gray')\n",
        "    plt.axis('off')\n",
        "\n",
        "# Adjust subplot parameters to give specified padding\n",
        "plt.tight_layout()"
      ],
      "execution_count": null,
      "outputs": []
    },
    {
      "cell_type": "markdown",
      "source": [
        "** RASTGELE SECİLMİŞ 9 GÖRÜNTÜNÜN AKCİĞER BÖLGESİ KAYBOLMAYACAK ŞEKİLDE CROP EDİLİYOR"
      ],
      "metadata": {
        "id": "8lIPoUN4Eyqd"
      }
    },
    {
      "cell_type": "code",
      "metadata": {
        "id": "SpAPF5QNsrpd"
      },
      "source": [
        "def crop_image(image_name,x,y,h,w):\n",
        "  image_path = os.path.join(img_dir, image_name)\n",
        "  img = cv.imread(image_path)\n",
        "  crop_img = img[y:y+h, x:x+w]\n",
        "  #cv2_imshow(crop_img)\n",
        "  return crop_img"
      ],
      "execution_count": null,
      "outputs": []
    },
    {
      "cell_type": "code",
      "source": [
        "crp_img_1 = crop_image(random_images[0], 55,50,700,850)\n",
        "crp_img_2 = crop_image(random_images[1], 55,50,800,850)\n",
        "crp_img_3 = crop_image(random_images[2], 55,50,700,850)\n",
        "crp_img_4 = crop_image(random_images[3], 55,50,700,850)\n",
        "crp_img_5 = crop_image(random_images[4], 55,50,700,900)\n",
        "crp_img_6 = crop_image(random_images[5], 55,50,700,850)\n",
        "crp_img_7 = crop_image(random_images[6], 55,50,700,850)\n",
        "crp_img_8 = crop_image(random_images[7], 55,50,700,900)\n",
        "crp_img_9 = crop_image(random_images[8], 55,50,750,850)"
      ],
      "metadata": {
        "id": "bbmI4Jn_iWeF"
      },
      "execution_count": null,
      "outputs": []
    },
    {
      "cell_type": "code",
      "source": [
        "import plotly.graph_objects as go\n",
        "from plotly.subplots import make_subplots\n",
        "\n",
        "fig = make_subplots(rows=3, cols=3)\n",
        "\n",
        "images = [crp_img_1, crp_img_2, crp_img_3, crp_img_4, crp_img_5,\n",
        "          crp_img_6, crp_img_7, crp_img_8, crp_img_9]\n",
        "\n",
        "for i, img in enumerate(images):\n",
        "    row = i // 3 + 1\n",
        "    col = i % 3 + 1\n",
        "    fig.add_trace(go.Image(z=img), row=row, col=col)\n",
        "\n",
        "fig.update_layout(height=800, width=800, title_text=\"Cropped Images\")\n",
        "fig.show()"
      ],
      "metadata": {
        "id": "J3wUKN3rBFI8"
      },
      "execution_count": null,
      "outputs": []
    },
    {
      "cell_type": "markdown",
      "source": [
        "#Görüntü İşleme Adımları"
      ],
      "metadata": {
        "id": "JbyA1O2RN3qP"
      }
    },
    {
      "cell_type": "markdown",
      "source": [
        "3. Görüntü İşleme ve İyileştirme (Pre-processing)\n",
        "  1.\tGörüntüleri Akciğer bölgeleri kaybolmayacak şekilde kenarlardan kırpın (Crop),(ilgi alanı dışındaki gürültü bölgelerinden kurtulun\n",
        "  o\tOrijinal ve Crop edilmiş görüntüleri görseleştirin.\n",
        "  2.\tArasınav ödevi çıktılarını inceleyerek Kontrast Germe (Stretching) Histogram Eşitleme (Equalization) yöntemlerinden uygun gördüğünüzü crop edilmiş görüntüye uygulayın. (YORUM)\n",
        "  o\tCrop edilmişve dönüşüme uğramış  görüntüleri görseleştirin.\n",
        "\n",
        "  3.\tBir önceki adımın çıktısına gürültü azaltma işlemlerinden birini seçerek uygulayın (örn: Median ve Gaussian Blur).\n",
        "  o\tGörüntüleri görseleştirin\n"
      ],
      "metadata": {
        "id": "X2yCNJAOWr4l"
      }
    },
    {
      "cell_type": "code",
      "source": [
        "from skimage import exposure\n",
        "import cv2  # opencv for python package\n",
        "\n",
        "\n",
        "def preprocess_image(image):\n",
        "  '''\n",
        "  3.1 , 3.2 , 3.3\n",
        "    Görüntü İşleme ve İyileştirme (Pre-processing)\n",
        "\n",
        "    Görüntüleri Akciğer bölgeleri kaybolmayacak şekilde kenarlardan kırpın (Crop),(ilgi alanı dışındaki gürültü bölgelerinden kurtulun o Orijinal ve Crop edilmiş görüntüleri görseleştirin.\n",
        "\n",
        "    Arasınav ödevi çıktılarını inceleyerek Kontrast Germe (Stretching) Histogram Eşitleme (Equalization) yöntemlerinden uygun gördüğünüzü crop edilmiş görüntüye uygulayın. (YORUM) o Crop edilmişve dönüşüme uğramış görüntüleri görseleştirin.\n",
        "\n",
        "    Bir önceki adımın çıktısına gürültü azaltma işlemlerinden birini seçerek uygulayın (örn: Median ve Gaussian Blur). o Görüntüleri görseleştirin\n",
        "  '''\n",
        "\n",
        "  # Calculate minimum and maximum for contrast stretching\n",
        "  min_val, max_val = image.min(), image.max()\n",
        "\n",
        "  # Step 1: Apply contrast stretching\n",
        "  min_val, max_val = image.min(), image.max()\n",
        "  contrast_stretched = (image - min_val) / (max_val - min_val)  # Normalize to [0, 1]\n",
        "  contrast_stretched = (contrast_stretched * 255).astype(np.uint8)  # Scale to [0, 255] for visualization\n",
        "\n",
        "  # Step 2: Apply histogram equalization after contrast stretching\n",
        "  # Step 2: Apply histogram equalization using skimage\n",
        "  equalized_image = exposure.equalize_hist(contrast_stretched)  # Returns values in [0, 1]\n",
        "  equalized_image = (equalized_image * 255).astype(np.uint8)    # Scale to [0, 255]\n",
        "\n",
        "  # Step 3: Apply gamma correction on the equalized image\n",
        "  gamma = 1.2  # Adjust gamma value as needed\n",
        "  gamma_corrected = np.power(equalized_image / 255.0, gamma) * 255\n",
        "  gamma_corrected = gamma_corrected.astype(np.uint8)\n",
        "\n",
        "  # Plot original image and histogram\n",
        "  plt.figure(figsize=(18, 10))\n",
        "  plt.subplot(2, 4, 1)\n",
        "  plt.imshow(image, cmap='gray')\n",
        "  plt.title('Original Image')\n",
        "  plt.colorbar()\n",
        "  plt.subplot(2, 4, 5)\n",
        "  plt.hist(image.ravel(), bins=256, color='gray')\n",
        "  plt.title(\"Original Image Histogram\")\n",
        "\n",
        "  # Plot contrast-stretched image and histogram\n",
        "  plt.subplot(2, 4, 2)\n",
        "  plt.imshow(contrast_stretched, cmap='gray')\n",
        "  plt.title('Contrast-Stretched Image')\n",
        "  plt.colorbar()\n",
        "  plt.subplot(2, 4, 6)\n",
        "  plt.hist(contrast_stretched.ravel(), bins=256, color='gray')\n",
        "  plt.title(\"Contrast-Stretched Histogram\")\n",
        "\n",
        "  # Plot contrast-equalized image and histogram\n",
        "  plt.subplot(2, 4, 3)\n",
        "  plt.imshow(equalized_image, cmap='gray')\n",
        "  plt.title('Contrast Equalized Image')\n",
        "  plt.colorbar()\n",
        "  plt.subplot(2, 4, 7)\n",
        "  plt.hist(equalized_image.ravel(), bins=256, color='gray')\n",
        "  plt.title(\"Equalized Histogram\")\n",
        "\n",
        "  plt.tight_layout()\n",
        "  plt.show()\n",
        "\n",
        "\n",
        "  # Apply Median Filtering\n",
        "  median_filtered = cv2.medianBlur(gamma_corrected, 5)\n",
        "\n",
        "  # Apply Gaussian Blur\n",
        "  gaussian_filtered = cv2.GaussianBlur(gamma_corrected, (5, 5), 0)\n",
        "\n",
        "  # Display Results\n",
        "  plt.figure(figsize=(12, 6))\n",
        "  plt.subplot(1, 2, 1), plt.imshow(median_filtered, cmap='gray'), plt.title(\"Median Filtered Image\")\n",
        "  plt.subplot(1, 2, 2), plt.imshow(gaussian_filtered, cmap='gray'), plt.title(\"Gaussian Filtered Image\")\n",
        "  plt.show()\n"
      ],
      "metadata": {
        "id": "r1cUZucd0izB"
      },
      "execution_count": null,
      "outputs": []
    },
    {
      "cell_type": "markdown",
      "source": [
        "3.4 Eşit sayısı belirleme\n",
        "Tek eşik değeri kullanacaksanız, Görüntülere Gauss yoğunluk dönüşümü gibi akciğer yoğunluk değerleri ile düşük ve yüksek değerleri ayıracak bir transform uygulayın"
      ],
      "metadata": {
        "id": "y2LFTaENFu_f"
      }
    },
    {
      "cell_type": "code",
      "source": [
        "from PIL import Image\n",
        "import numpy as np\n",
        "import matplotlib.pyplot as plt\n",
        "from skimage import filters, exposure\n",
        "\n",
        "def set_threshold_number(image):\n",
        "  '''\n",
        "  3.4 Eşit sayısı belirleme\n",
        "  Tek eşik değeri kullanacaksanız, Görüntülere Gauss yoğunluk dönüşümü gibi akciğer yoğunluk değerleri ile düşük ve yüksek değerleri ayıracak bir transform uygulayın\n",
        "  '''\n",
        "  # Görüntüyü NumPy dizisine çevirme\n",
        "  gray_image = cv2.cvtColor(image, cv2.COLOR_BGR2GRAY)\n",
        "\n",
        "  # Convert the grayscale image to a NumPy array\n",
        "  image_array = np.array(gray_image)\n",
        "\n",
        "  # Gauss yoğunluk dönüşümü (kontrast artırma)\n",
        "  p2, p98 = np.percentile(image_array, (2, 98))  # Alt ve üst yüzde 2'lik değerleri al\n",
        "  adjusted_image = exposure.rescale_intensity(image_array, in_range=(p2, p98))\n",
        "\n",
        "  # Otsu yöntemi ile eşik değeri belirleme\n",
        "  threshold_value = filters.threshold_otsu(adjusted_image)\n",
        "\n",
        "  # Eşikleme işlemi\n",
        "  binary_image = adjusted_image > threshold_value\n",
        "\n",
        "  # Sonuçları görselleştirme\n",
        "  fig, ax = plt.subplots(1, 3, figsize=(18, 6))\n",
        "  ax[0].imshow(image_array, cmap='gray')\n",
        "  ax[0].set_title(\"Orijinal Görüntü\")\n",
        "  ax[0].axis('off')\n",
        "\n",
        "  ax[1].imshow(adjusted_image, cmap='gray')\n",
        "  ax[1].set_title(\"Gauss Yoğunluk Dönüşümü Uygulanmış Görüntü\")\n",
        "  ax[1].axis('off')\n",
        "\n",
        "  ax[2].imshow(binary_image, cmap='gray')\n",
        "  ax[2].set_title(\"Eşiklenmiş İkili Görüntü\")\n",
        "  ax[2].axis('off')\n",
        "\n",
        "  plt.tight_layout()\n",
        "  plt.show()\n",
        "\n",
        "  print(f\"Eşik Değeri: {threshold_value}\")\n"
      ],
      "metadata": {
        "id": "giHKkj5FFq9N"
      },
      "execution_count": null,
      "outputs": []
    },
    {
      "cell_type": "markdown",
      "source": [
        "4.1 1.\tGlobal Thresholding, Otsu veya skimage all filter kütüphanesini kullanarak (from skimage.filters import try_all_threshold) https://scikit-image.org/docs/dev/auto_examples/segmentation/plot_thresholding.html en az 2 thresholding yöntemi  ile eşik değerlerini belirleyiniz."
      ],
      "metadata": {
        "id": "h8Da7DICFzMm"
      }
    },
    {
      "cell_type": "code",
      "source": [
        "from skimage.filters import try_all_threshold\n",
        "import matplotlib.pyplot as plt\n",
        "from skimage.filters import threshold_otsu\n",
        "\n",
        "def thresholding(image):\n",
        "  '''\n",
        "    4.1.\tGlobal Thresholding, Otsu veya skimage all filter kütüphanesini kullanarak (from skimage.filters import try_all_threshold)\n",
        "    https://scikit-image.org/docs/dev/auto_examples/segmentation/plot_thresholding.html en az 2 thresholding yöntemi  ile eşik değerlerini belirleyiniz.\n",
        "  '''\n",
        "  gray_crp_img = cv.cvtColor(image, cv.COLOR_BGR2GRAY)\n",
        "\n",
        "  thresh = threshold_otsu(gray_crp_img)\n",
        "  binary = gray_crp_img > thresh\n",
        "\n",
        "  fig, axes = plt.subplots(ncols=3, figsize=(8, 2.5))\n",
        "  ax = axes.ravel()\n",
        "  ax[0] = plt.subplot(1, 3, 1)\n",
        "  ax[1] = plt.subplot(1, 3, 2)\n",
        "  ax[2] = plt.subplot(1, 3, 3, sharex=ax[0], sharey=ax[0])\n",
        "\n",
        "  ax[0].imshow(gray_crp_img, cmap=plt.cm.gray)\n",
        "  ax[0].set_title('Original')\n",
        "  ax[0].axis('off')\n",
        "\n",
        "  ax[1].hist(gray_crp_img.ravel(), bins=256)\n",
        "  ax[1].set_title('Histogram')\n",
        "  ax[1].axvline(thresh, color='r')\n",
        "\n",
        "  ax[2].imshow(binary, cmap=plt.cm.gray)\n",
        "  ax[2].set_title('Thresholded')\n",
        "  ax[2].axis('off')\n",
        "\n",
        "  plt.show()\n",
        "\n",
        "  _, otsu_thresh = cv.threshold(gray_crp_img, 0, 255, cv.THRESH_BINARY + cv.THRESH_OTSU)\n",
        "\n",
        "  # Belirlenen eşik değeri\n",
        "  otsu_value = _\n",
        "\n",
        "  print(\"Otsu ile belirlenen eşik değeri:\", otsu_value)\n",
        "\n",
        "\n",
        "  fig, ax = try_all_threshold(gray_crp_img, figsize=(10, 8), verbose=False)\n",
        "  plt.show()"
      ],
      "metadata": {
        "id": "ZqM6nfTQtHir"
      },
      "execution_count": null,
      "outputs": []
    },
    {
      "cell_type": "markdown",
      "source": [
        "4.2 Eşik değerlerini görüntülere uygulayarak binary görüntüleri görselleştirip uygun thresholding yöntemini i seçiniz. (YORUM)"
      ],
      "metadata": {
        "id": "NU93_4qwIrVK"
      }
    },
    {
      "cell_type": "code",
      "source": [
        "def apply_thresholding(image, threshold=128):\n",
        "  '''\n",
        "  4.2.\tEşik değerlerini görüntülere uygulayarak binary görüntüleri görselleştirip uygun thresholding yöntemini i seçiniz. (YORUM)\n",
        "  '''\n",
        "  #global thresholding\n",
        "  ret1, th1 = cv.threshold(image, threshold, 255, cv.THRESH_BINARY)\n",
        "\n",
        "  #otsu threasholding\n",
        "  ret2, th2 = cv.threshold(image, 0, 255, cv.THRESH_BINARY + cv.THRESH_OTSU)\n",
        "\n",
        "  #otsu thresholding after gaussian filtering\n",
        "  blur = cv.GaussianBlur(image, (5, 5), 0)\n",
        "  ret3, th3 = cv.threshold(blur, 0, 255, cv.THRESH_BINARY + cv.THRESH_OTSU)\n",
        "\n",
        "  images = [image, 0, th1,\n",
        "            image, 0, th2,\n",
        "            blur, 0, th3]\n",
        "\n",
        "  titles = ['Original Image', f'Global Thresholding (v = {threshold})',\n",
        "              'Adaptive Mean Thresholding', 'Adaptive Gaussian Thresholding']\n",
        "  images = [img, th1, th2, th3]\n",
        "\n",
        "  for i in range(4):\n",
        "      plt.subplot(2,2,i+1),plt.imshow(images[i],'gray')\n",
        "      plt.title(titles[i])\n",
        "      plt.xticks([]),plt.yticks([])\n",
        "  plt.show()"
      ],
      "metadata": {
        "id": "UeoxWGLDsIEv"
      },
      "execution_count": null,
      "outputs": []
    },
    {
      "cell_type": "markdown",
      "source": [
        "4.3.1.\tUygun morfolojik operatörleri, uygun structural element yapısı ve boyutunu seçerek görüntüye uygulayınız. (YORUM)\n",
        "\tGiriş ve Çıkış Görüntülerini görseleştirin\n"
      ],
      "metadata": {
        "id": "2TfqfC0yJBv7"
      }
    },
    {
      "cell_type": "code",
      "source": [
        "from skimage.morphology import disk, opening, closing , dilation, erosion\n",
        "\n",
        "def apply_5_morphological_operations(image):\n",
        "  '''\n",
        "  4.3.1. Uygun morfolojik operatörleri, uygun structural element yapısı ve boyutunu seçerek görüntüye uygulayınız. (YORUM) Giriş ve Çıkış Görüntülerini görseleştirin\n",
        "  '''\n",
        "  otsu_thresh = threshold_otsu(image)\n",
        "  binary_otsu = image > otsu_thresh\n",
        "  binary_image = binary_otsu.astype(np.uint8) * 255\n",
        "  selem = disk(3)\n",
        "\n",
        "  dilation_image = dilation(binary_image, selem)\n",
        "  erosion_image = erosion(binary_image, selem)\n",
        "\n",
        "  # Açma (Opening) işlemi - Gürültüleri temizler\n",
        "  opened = opening(binary_image, selem)\n",
        "\n",
        "  # Kapatma (Closing) işlemi - Delikleri doldurur\n",
        "  closed = closing(opened, selem)\n",
        "\n",
        "  # Sonuçları görselleştirme\n",
        "  fig, ax = plt.subplots(1, 5, figsize=(15, 5))\n",
        "  ax[0].imshow(binary_image, cmap='gray')\n",
        "  ax[0].set_title(\"Binary Görüntü\")\n",
        "  ax[0].axis(\"off\")\n",
        "\n",
        "  ax[1].imshow(opened, cmap='gray')\n",
        "  ax[1].set_title(\"Opening (Açma)\")\n",
        "  ax[1].axis(\"off\")\n",
        "\n",
        "  ax[2].imshow(closed, cmap='gray')\n",
        "  ax[2].set_title(\"Closing (Kapatma)\")\n",
        "  ax[2].axis(\"off\")\n",
        "\n",
        "  ax[3].imshow(dilation_image, cmap='gray')\n",
        "  ax[3].set_title(\"Dilation\")\n",
        "  ax[3].axis(\"off\")\n",
        "\n",
        "  ax[4].imshow(erosion_image, cmap='gray')\n",
        "  ax[4].set_title(\"Erosion\")\n",
        "  ax[4].axis(\"off\")\n",
        "\n",
        "  plt.show()\n",
        "\n",
        "  return binary_image, opened, closed, dilation_image, erosion_image\n"
      ],
      "metadata": {
        "id": "651c3JFbJBT1"
      },
      "execution_count": null,
      "outputs": []
    },
    {
      "cell_type": "markdown",
      "source": [
        "4.3.2 Görüntüye bağlantı bileşen analizi (connected component labeling-CCL) (cv2.connectedComponents) uygulayarak olası bölge sayısını print CCL çıktısını plot edin."
      ],
      "metadata": {
        "id": "rNKxw1A3M_UL"
      }
    },
    {
      "cell_type": "code",
      "source": [
        "\n",
        "def connected_component_labeling(image):\n",
        "  '''\n",
        "  4.3.2.\tGörüntüye bağlantı bileşen analizi (connected component labeling-CCL) (cv2.connectedComponents) uygulayarak olası bölge sayısını print CCL çıktısını plot edin.\n",
        "  '''\n",
        "  # 2. Connected Component Labeling (CCL) Uygula\n",
        "  num_labels, labels , stats, centroids = cv2.connectedComponentsWithStats(image , connectivity=8)\n",
        "\n",
        "\n",
        "  # 4. Etiketleri Görselleştirmek için Etiket Görüntüsünü Renkli Hale Getir\n",
        "  # Her bölgeye farklı bir renk atanır\n",
        "  label_hue = np.uint8(179 * labels / np.max(labels))  # Her etikete renk tonu atanır\n",
        "  colored_labels = cv2.applyColorMap(label_hue, cv2.COLORMAP_JET)\n",
        "\n",
        "  # Arka planı siyah yap\n",
        "  colored_labels[label_hue == 0] = 0\n",
        "\n",
        "  # 5. Görüntüleri Göster/Plot Et\n",
        "  plt.figure(figsize=(10, 5))\n",
        "  plt.subplot(1, 3, 1)\n",
        "  plt.title(\"Orijinal Görüntü\")\n",
        "  plt.imshow(image, cmap='gray')\n",
        "  plt.axis('off')\n",
        "\n",
        "  plt.subplot(1, 3, 2)\n",
        "  plt.title(\"Closed Görüntü\")\n",
        "  plt.imshow(image, cmap='gray')\n",
        "  plt.axis('off')\n",
        "\n",
        "  plt.subplot(1, 3, 3)\n",
        "  plt.title(\"CCL Çıktısı\")\n",
        "  plt.imshow(colored_labels)\n",
        "  plt.axis('off')\n",
        "\n",
        "  plt.tight_layout()\n",
        "  plt.show()\n",
        "\n",
        "  print(f\"Bulunan bölge sayısı (etiketler dahil): {num_labels}\")\n",
        "\n",
        "  for i in range(1, num_labels):  # 0 numaralı bileşen arka plandır, onu atlıyoruz\n",
        "    x, y, w, h, area = stats[i]\n",
        "    cx, cy = centroids[i]\n",
        "\n",
        "    print(f\"Bölge {i}:\")\n",
        "    print(f\" - Alan: {area}\")\n",
        "    print(f\" - Merkezi: ({cx:.2f}, {cy:.2f})\")\n",
        "    print(f\" - Genişlik: {w}, Yükseklik: {h}\")\n",
        "    print(f\" - Aspect Ratio: {w/h:.2f}\")\n",
        "    print(f\" - Dairesellik: {(4 * np.pi * area) / (w*h):.2f}\")\n",
        "    print(\"-\" * 30)"
      ],
      "metadata": {
        "id": "plctZLp8M-jg"
      },
      "execution_count": null,
      "outputs": []
    },
    {
      "cell_type": "markdown",
      "source": [
        "4.3.3.\tElde ettiğiniz labellar için, Centroid ve Area bilgilerinin kesinlikle olacağı, ayrıca bölgelerin yoğunluk ve şekilsel özelliklerini belirten en az 5 tane özniteliği print edin.\n",
        "o\t(cv2.connectedComponentsWithStats önerebilirim ama scikit-image’ın regionprops u daha iyi)\n"
      ],
      "metadata": {
        "id": "gThbnTUISHUf"
      }
    },
    {
      "cell_type": "code",
      "source": [
        "from skimage.measure import label, regionprops\n",
        "from skimage.color import label2rgb\n",
        "\n",
        "def load_image_and_convert_to_binary(image):\n",
        "  '''\n",
        "  4.3.3. Elde ettiğiniz labellar için, Centroid ve Area bilgilerinin kesinlikle olacağı, ayrıca bölgelerin yoğunluk ve şekilsel özelliklerini belirten en az 5 tane özniteliği print edin.\n",
        "  o (cv2.connectedComponentsWithStats önerebilirim ama scikit-image’ın regionprops u daha iyi)\n",
        "  '''\n",
        "  # 1. Görüntüyü Yükle ve İkili Görüntüye Çevir\n",
        "\n",
        "  _, binary = cv2.threshold(image, 127, 255, cv2.THRESH_BINARY)  # İkili görüntü\n",
        "\n",
        "  # 2. Bağlantı Bileşen Analizi Yap\n",
        "  labeled_image = label(binary)\n",
        "\n",
        "  # 3. Bölgesel Özellikleri Hesapla\n",
        "  regions = regionprops(labeled_image, intensity_image=image)\n",
        "\n",
        "  # 4. Özellikleri Print Et\n",
        "  print(\"Bölge Özellikleri:\")\n",
        "  for i, region in enumerate(regions, start=1):\n",
        "      #hepsi yazılmak istenirse buradaki break kaldırmak lazım\n",
        "      if i > 5:\n",
        "          break\n",
        "      print(f\"\\nBölge {i}:\")\n",
        "      print(f\" - Centroid (Ağırlık Merkezi): {region.centroid}\")\n",
        "      print(f\" - Area (Alan): {region.area}\")\n",
        "      print(f\" - Eccentricity (Eksantriklik): {region.eccentricity}\")\n",
        "      print(f\" - Extent (Dikdörtgen Kutusu Oranı): {region.extent}\")\n",
        "      print(f\" - Mean Intensity (Yoğunluk Ortalaması): {region.mean_intensity:.2f}\")\n",
        "\n",
        "  # 5. Etiket Görüntüsünü Görselleştir\n",
        "  colored_labels = label2rgb(labeled_image, image=image, bg_label=0)\n",
        "\n",
        "  plt.figure(figsize=(10, 5))\n",
        "  plt.subplot(1, 2, 1)\n",
        "  plt.title(\"Orijinal Görüntü\")\n",
        "  plt.imshow(image, cmap='gray')\n",
        "  plt.axis('off')\n",
        "\n",
        "  plt.subplot(1, 2, 2)\n",
        "  plt.title(\"Label Görüntüsü\")\n",
        "  plt.imshow(colored_labels)\n",
        "  plt.axis('off')\n",
        "\n",
        "  plt.tight_layout()\n",
        "  plt.show()"
      ],
      "metadata": {
        "collapsed": true,
        "id": "oKBZRu1mNjyv"
      },
      "execution_count": null,
      "outputs": []
    },
    {
      "cell_type": "markdown",
      "source": [
        "4.3.4  Elde ettiğiniz stats ve labelsları inceleyerek akciğer alanlarını en iyi ifade eden öznitelikleri yorumlayınız.\n",
        "Belirlediğniz özniteliklere göre filtreleme yapın. (örn: maks alana sahip ilk iki bölge,\n",
        " if maks alana sahip iki bölge and bölgelerin centroidleri ortada; filter; else try 3. Bölge; return)\n",
        "Belirleyici öznitelik bulunamadıysa. Her görüntüde otomatik olarak label belirleyen algoritmayı yazın"
      ],
      "metadata": {
        "id": "oJkE3NSLOjFO"
      }
    },
    {
      "cell_type": "code",
      "source": [
        "from skimage.measure import label, regionprops\n",
        "\n",
        "def find_lung_regions(image):\n",
        "    '''\n",
        "      4.3.4  Elde ettiğiniz stats ve labelsları inceleyerek akciğer alanlarını en iyi ifade eden öznitelikleri yorumlayınız.\n",
        "      Belirlediğniz özniteliklere göre filtreleme yapın. (örn: maks alana sahip ilk iki bölge,\n",
        "      if maks alana sahip iki bölge and bölgelerin centroidleri ortada; filter; else try 3. Bölge; return)\n",
        "      Belirleyici öznitelik bulunamadıysa. Her görüntüde otomatik olarak label belirleyen algoritmayı yazın\n",
        "    '''\n",
        "\n",
        "    # 1. Görüntüyü ikili hale getir\n",
        "    _, binary = cv2.threshold(image, 127, 255, cv2.THRESH_BINARY)\n",
        "\n",
        "    # 2. Bağlantı Bileşenleri ve Özellikleri Hesapla\n",
        "    labeled_image = label(binary)\n",
        "    regions = regionprops(labeled_image, intensity_image=image)\n",
        "\n",
        "    # 3. Öznitelikleri İncele\n",
        "    region_data = []\n",
        "    for region in regions:\n",
        "        region_data.append({\n",
        "            \"label\": region.label,\n",
        "            \"area\": region.area,\n",
        "            \"centroid\": region.centroid,\n",
        "            \"eccentricity\": region.eccentricity,\n",
        "            \"extent\": region.extent,\n",
        "        })\n",
        "\n",
        "    # 4. Alanlara Göre Sırala\n",
        "    region_data = sorted(region_data, key=lambda x: x['area'], reverse=True)\n",
        "\n",
        "    # 5. En Büyük İki veya Üç Bölgeyi Değerlendir\n",
        "    if len(region_data) >= 2:\n",
        "        # İlk iki büyük bölge\n",
        "        region1 = region_data[0]\n",
        "        region2 = region_data[1]\n",
        "\n",
        "        # Ağırlık merkezlerini kontrol et\n",
        "        centroid1, centroid2 = region1[\"centroid\"], region2[\"centroid\"]\n",
        "        if abs(centroid1[1] - centroid2[1]) < 50:  # Yatay yakınlık kontrolü\n",
        "            return [region1, region2]\n",
        "\n",
        "        # 3. büyük bölgeyi dahil et\n",
        "        if len(region_data) > 2:\n",
        "            region3 = region_data[2]\n",
        "            return [region1, region2, region3]\n",
        "\n",
        "    # 6. Belirleyici Öznitelik Bulunamazsa, Otomatik Algoritma\n",
        "    filtered_regions = [r for r in region_data if r[\"area\"] > 500]  # Alan filtresi\n",
        "\n",
        "\n",
        "    return filtered_regions\n"
      ],
      "metadata": {
        "id": "zz4cDJBsOJeM"
      },
      "execution_count": null,
      "outputs": []
    },
    {
      "cell_type": "markdown",
      "source": [
        "4.3.5\tSeçtiğiniz labela sahip filtrelenmiş görüntülere uygun morfolojik işlemleri (structural elemant tipi ve boyutu belirleyerek) uygulayın. Giriş ve çıkış görüntülerini görselleştirin"
      ],
      "metadata": {
        "id": "DMq_D-tuQa3Q"
      }
    },
    {
      "cell_type": "code",
      "source": [
        "def apply_morphological_operations_open_close(image, threshold= 127):\n",
        "  '''\n",
        "  Seçtiğiniz labela sahip filtrelenmiş görüntülere uygun morfolojik işlemleri (structural elemant tipi ve boyutu belirleyerek) uygulayın. Giriş ve çıkış görüntülerini görselleştirin\n",
        "  '''\n",
        "  _, binary = cv2.threshold(image, threshold, 255, cv2.THRESH_BINARY)\n",
        "\n",
        "\n",
        "  # Bağlantı bileşen analizi\n",
        "  labeled_image = label(binary)\n",
        "\n",
        "  # Seçilen label'ları filtrele (örnek: en büyük 2 bölge)\n",
        "  regions = regionprops(labeled_image)\n",
        "  selected_labels = sorted(regions, key=lambda x: x.area, reverse=True)[:2]\n",
        "  filtered_mask = np.isin(labeled_image, [region.label for region in selected_labels]).astype(np.uint8)\n",
        "\n",
        "  # Morfolojik işlemler için yapı elemanı oluştur\n",
        "  kernel = cv2.getStructuringElement(cv2.MORPH_ELLIPSE, (5, 5))  # Daire şeklinde 5x5 yapı elemanı\n",
        "\n",
        "  # Açma işlemi\n",
        "  opened = cv2.morphologyEx(filtered_mask, cv2.MORPH_OPEN, kernel)\n",
        "\n",
        "  # Kapama işlemi\n",
        "  closed = cv2.morphologyEx(filtered_mask, cv2.MORPH_CLOSE, kernel)\n",
        "\n",
        "  # Görselleştirme\n",
        "  plt.figure(figsize=(12, 6))\n",
        "\n",
        "  plt.subplot(1, 3, 1)\n",
        "  plt.title(\"Orijinal İkili Görüntü\")\n",
        "  plt.imshow(image, cmap='gray')\n",
        "  plt.axis('off')\n",
        "\n",
        "  plt.subplot(1, 3, 2)\n",
        "  plt.title(\"Filtrelenmiş Mask\")\n",
        "  plt.imshow(filtered_mask, cmap='gray')\n",
        "  plt.axis('off')\n",
        "\n",
        "  plt.subplot(1, 3, 3)\n",
        "  plt.title(\"Kapama İşlemi Sonrası\")\n",
        "  plt.imshow(closed, cmap='gray')\n",
        "  plt.axis('off')\n",
        "\n",
        "  plt.tight_layout()\n",
        "  plt.show()"
      ],
      "metadata": {
        "id": "-CBhcNQ0O8AF"
      },
      "execution_count": null,
      "outputs": []
    },
    {
      "cell_type": "markdown",
      "source": [
        "6. İşlemler sonucunda elde ettiğiniz maske ile orijinal görüntüyü çarparak görüntü işleme sonuçlarını görselleştirip yorumlayın"
      ],
      "metadata": {
        "id": "b8o45yOBQHCF"
      }
    },
    {
      "cell_type": "code",
      "source": [
        "def multiplying_the_original_image_with_the_mask(image, threshold= 127):\n",
        "  '''\n",
        "  İşlemler sonucunda elde ettiğiniz maske ile orijinal görüntüyü çarparak görüntü işleme sonuçlarını görselleştiren metod\n",
        "  '''\n",
        "  _, binary = cv2.threshold(image, threshold, 255, cv2.THRESH_BINARY)\n",
        "\n",
        "  # Bağlantı bileşen analizi\n",
        "  labeled_image = label(binary)\n",
        "\n",
        "  # Seçilen label'ları filtrele (örnek: en büyük 2 bölge)\n",
        "  regions = regionprops(labeled_image)\n",
        "  selected_labels = sorted(regions, key=lambda x: x.area, reverse=True)[:2]\n",
        "  filtered_mask = np.isin(labeled_image, [region.label for region in selected_labels]).astype(np.uint8)\n",
        "\n",
        "  # Morfolojik işlemler için yapı elemanı oluştur\n",
        "  kernel = cv2.getStructuringElement(cv2.MORPH_ELLIPSE, (5, 5))\n",
        "  closed = cv2.morphologyEx(filtered_mask, cv2.MORPH_CLOSE, kernel)\n",
        "\n",
        "  # Maske ile orijinal görüntüyü çarp\n",
        "  masked_image = cv2.bitwise_and(image, image, mask=closed)\n",
        "\n",
        "  # Görselleştirme\n",
        "  plt.figure(figsize=(12, 6))\n",
        "\n",
        "  plt.subplot(1, 3, 1)\n",
        "  plt.title(\"Orijinal Görüntü\")\n",
        "  plt.imshow(image, cmap='gray')\n",
        "  plt.axis('off')\n",
        "\n",
        "  plt.subplot(1, 3, 2)\n",
        "  plt.title(\"Sonuç Maske\")\n",
        "  plt.imshow(closed, cmap='gray')\n",
        "  plt.axis('off')\n",
        "\n",
        "  plt.subplot(1, 3, 3)\n",
        "  plt.title(\"Maske ile Çarpılmış Görüntü\")\n",
        "  plt.imshow(masked_image, cmap='gray')\n",
        "  plt.axis('off')\n",
        "\n",
        "  plt.tight_layout()\n",
        "  plt.show()"
      ],
      "metadata": {
        "id": "XNY1yqCoPZdW"
      },
      "execution_count": null,
      "outputs": []
    },
    {
      "cell_type": "markdown",
      "source": [
        "#Resim Analizleri"
      ],
      "metadata": {
        "id": "JZtEWg3pN_sq"
      }
    },
    {
      "cell_type": "markdown",
      "source": [
        "## Resim 1"
      ],
      "metadata": {
        "id": "DbHso8TdNIks"
      }
    },
    {
      "cell_type": "code",
      "source": [
        "cv2_imshow(crp_img_1)"
      ],
      "metadata": {
        "id": "a9wZ4g23f1r4"
      },
      "execution_count": null,
      "outputs": []
    },
    {
      "cell_type": "code",
      "source": [
        "# 3.1 , 3.2, 3.3 . Görüntü İşleme ve İyileştirme (Pre-processing)\n",
        "\n",
        "preprocess_image(crp_img_1)"
      ],
      "metadata": {
        "id": "QZIYoE3GW3ux"
      },
      "execution_count": null,
      "outputs": []
    },
    {
      "cell_type": "code",
      "source": [
        "# 3.4 Eşik Değeri Uygula. Tek eşik değeri kullanacaksanız, Görüntülere Gauss yoğunluk dönüşümü gibi akciğer yoğunluk değerleri ile düşük ve yüksek değerleri ayıracak bir transform uygulayın\n",
        "set_threshold_number(crp_img_1)"
      ],
      "metadata": {
        "id": "iAQI5Si1V6NV"
      },
      "execution_count": null,
      "outputs": []
    },
    {
      "cell_type": "code",
      "source": [
        "#4.1.\tGlobal Thresholding, Otsu veya skimage all filter kütüphanesini kullanarak (from skimage.filters import try_all_threshold)\n",
        "#https://scikit-image.org/docs/dev/auto_examples/segmentation/plot_thresholding.html en az 2 thresholding yöntemi  ile eşik değerlerini belirleyiniz.\n",
        "\n",
        "thresholding(crp_img_1)"
      ],
      "metadata": {
        "id": "6HXb0qwOUiFW"
      },
      "execution_count": null,
      "outputs": []
    },
    {
      "cell_type": "code",
      "source": [
        "# bundan sonraki işlemlerde gray scale image gerekli olduğu için resmimizi grayscale'e dönüştürüyoruz\n",
        "gray_crp_img = cv.cvtColor(crp_img_1, cv.COLOR_BGR2GRAY)"
      ],
      "metadata": {
        "id": "hgaLVC-rU1mB"
      },
      "execution_count": null,
      "outputs": []
    },
    {
      "cell_type": "code",
      "source": [
        "#4.2 Eşik değerlerini görüntülere uygulayarak binary görüntüleri görselleştirip uygun thresholding yöntemini i seçiniz. (YORUM)\n",
        "apply_thresholding(gray_crp_img , threshold=110)"
      ],
      "metadata": {
        "id": "aW3eWwKeVOZV"
      },
      "execution_count": null,
      "outputs": []
    },
    {
      "cell_type": "code",
      "source": [
        "#4.3.1. Uygun morfolojik operatörleri, uygun structural element yapısı ve boyutunu seçerek görüntüye uygulayınız. (YORUM) Giriş ve Çıkış Görüntülerini görseleştirin\n",
        "\n",
        "st_images = apply_5_morphological_operations(gray_crp_img)"
      ],
      "metadata": {
        "id": "33J8tOJKT0ph"
      },
      "execution_count": null,
      "outputs": []
    },
    {
      "cell_type": "code",
      "source": [
        "#4.3.2.\tGörüntüye bağlantı bileşen analizi (connected component labeling-CCL) (cv2.connectedComponents) uygulayarak olası bölge sayısını print CCL çıktısını plot edin.\n",
        "\n",
        "connected_component_labeling(st_images[2])\n"
      ],
      "metadata": {
        "id": "ZoX_ntHyTJhQ"
      },
      "execution_count": null,
      "outputs": []
    },
    {
      "cell_type": "code",
      "source": [
        "#4.3.3. Elde ettiğiniz labellar için, Centroid ve Area bilgilerinin kesinlikle olacağı, ayrıca bölgelerin yoğunluk ve şekilsel özelliklerini belirten en az 5 tane özniteliği print edin.\n",
        "#  o (cv2.connectedComponentsWithStats önerebilirim ama scikit-image’ın regionprops u daha iyi)\n",
        "\n",
        "load_image_and_convert_to_binary(st_images[2])"
      ],
      "metadata": {
        "id": "NaE5XILaSe3I"
      },
      "execution_count": null,
      "outputs": []
    },
    {
      "cell_type": "code",
      "source": [
        "# 4.3.4  Elde ettiğiniz stats ve labelsları inceleyerek akciğer alanlarını en iyi ifade eden öznitelikleri yorumlayınız.\n",
        "# Belirlediğniz özniteliklere göre filtreleme yapın. (örn: maks alana sahip ilk iki bölge,\n",
        "# if maks alana sahip iki bölge and bölgelerin centroidleri ortada; filter; else try 3. Bölge; return)\n",
        "# Belirleyici öznitelik bulunamadıysa. Her görüntüde otomatik olarak label belirleyen algoritmayı yazın\n",
        "\n",
        "lung_regions = find_lung_regions(st_images[2])\n",
        "\n",
        " # Sonuçları Yazdır\n",
        "for i, region in enumerate(lung_regions, start=1):\n",
        "        print(f\"Bölge {i}:\")\n",
        "        print(f\" - Label: {region['label']}\")\n",
        "        print(f\" - Area: {region['area']}\")\n",
        "        print(f\" - Centroid: {region['centroid']}\")\n",
        "        print(f\" - Eccentricity: {region['eccentricity']}\")\n",
        "        print(f\" - Extent: {region['extent']}\")\n"
      ],
      "metadata": {
        "id": "srl48fvIRfa8"
      },
      "execution_count": null,
      "outputs": []
    },
    {
      "cell_type": "code",
      "source": [
        "# 4.3.5 Seçtiğiniz labela sahip filtrelenmiş görüntülere uygun morfolojik işlemleri (structural elemant tipi ve boyutu belirleyerek) uygulayın. Giriş ve çıkış görüntülerini görselleştirin\n",
        "apply_morphological_operations_open_close(st_images[2])"
      ],
      "metadata": {
        "id": "ER4WNIdKQy7k"
      },
      "execution_count": null,
      "outputs": []
    },
    {
      "cell_type": "code",
      "source": [
        "# 6. İşlemler sonucunda elde ettiğiniz maske ile orijinal görüntüyü çarparak görüntü işleme sonuçlarını görselleştirip yorumlayın\n",
        "multiplying_the_original_image_with_the_mask(gray_crp_img)"
      ],
      "metadata": {
        "id": "R8RGgeTKQPO6"
      },
      "execution_count": null,
      "outputs": []
    },
    {
      "cell_type": "markdown",
      "source": [
        "## Resim 2"
      ],
      "metadata": {
        "id": "BX27-xbcNj4m"
      }
    },
    {
      "cell_type": "code",
      "source": [
        "# 3.1 , 3.2, 3.3 . Görüntü İşleme ve İyileştirme (Pre-processing)\n",
        "\n",
        "preprocess_image(crp_img_2)\n",
        "\n",
        "# 3.4 Eşik Değeri Uygula. Tek eşik değeri kullanacaksanız, Görüntülere Gauss yoğunluk dönüşümü gibi akciğer yoğunluk değerleri ile düşük ve yüksek değerleri ayıracak bir transform uygulayın\n",
        "set_threshold_number(crp_img_2)\n",
        "\n",
        "#4.1.\tGlobal Thresholding, Otsu veya skimage all filter kütüphanesini kullanarak (from skimage.filters import try_all_threshold)\n",
        "#https://scikit-image.org/docs/dev/auto_examples/segmentation/plot_thresholding.html en az 2 thresholding yöntemi  ile eşik değerlerini belirleyiniz.\n",
        "\n",
        "thresholding(crp_img_2)\n",
        "\n",
        "# bundan sonraki işlemlerde gray scale image gerekli olduğu için resmimizi grayscale'e dönüştürüyoruz\n",
        "gray_crp_img = cv.cvtColor(crp_img_2, cv.COLOR_BGR2GRAY)\n",
        "\n",
        "#4.2 Eşik değerlerini görüntülere uygulayarak binary görüntüleri görselleştirip uygun thresholding yöntemini i seçiniz. (YORUM)\n",
        "apply_thresholding(gray_crp_img , threshold=118)\n",
        "\n",
        "#4.3.1. Uygun morfolojik operatörleri, uygun structural element yapısı ve boyutunu seçerek görüntüye uygulayınız. (YORUM) Giriş ve Çıkış Görüntülerini görseleştirin\n",
        "\n",
        "st_images = apply_5_morphological_operations(gray_crp_img)\n",
        "\n",
        "#4.3.2.\tGörüntüye bağlantı bileşen analizi (connected component labeling-CCL) (cv2.connectedComponents) uygulayarak olası bölge sayısını print CCL çıktısını plot edin.\n",
        "\n",
        "connected_component_labeling(st_images[2])\n",
        "\n",
        "#4.3.3. Elde ettiğiniz labellar için, Centroid ve Area bilgilerinin kesinlikle olacağı, ayrıca bölgelerin yoğunluk ve şekilsel özelliklerini belirten en az 5 tane özniteliği print edin.\n",
        "#  o (cv2.connectedComponentsWithStats önerebilirim ama scikit-image’ın regionprops u daha iyi)\n",
        "\n",
        "load_image_and_convert_to_binary(st_images[2])\n",
        "\n",
        "# 4.3.4  Elde ettiğiniz stats ve labelsları inceleyerek akciğer alanlarını en iyi ifade eden öznitelikleri yorumlayınız.\n",
        "# Belirlediğniz özniteliklere göre filtreleme yapın. (örn: maks alana sahip ilk iki bölge,\n",
        "# if maks alana sahip iki bölge and bölgelerin centroidleri ortada; filter; else try 3. Bölge; return)\n",
        "# Belirleyici öznitelik bulunamadıysa. Her görüntüde otomatik olarak label belirleyen algoritmayı yazın\n",
        "\n",
        "lung_regions = find_lung_regions(st_images[2])\n",
        "\n",
        " # Sonuçları Yazdır\n",
        "for i, region in enumerate(lung_regions, start=1):\n",
        "        print(f\"Bölge {i}:\")\n",
        "        print(f\" - Label: {region['label']}\")\n",
        "        print(f\" - Area: {region['area']}\")\n",
        "        print(f\" - Centroid: {region['centroid']}\")\n",
        "        print(f\" - Eccentricity: {region['eccentricity']}\")\n",
        "        print(f\" - Extent: {region['extent']}\")\n",
        "\n",
        "# 4.3.5 Seçtiğiniz labela sahip filtrelenmiş görüntülere uygun morfolojik işlemleri (structural elemant tipi ve boyutu belirleyerek) uygulayın. Giriş ve çıkış görüntülerini görselleştirin\n",
        "apply_morphological_operations_open_close(st_images[2])\n",
        "\n",
        "# 6. İşlemler sonucunda elde ettiğiniz maske ile orijinal görüntüyü çarparak görüntü işleme sonuçlarını görselleştirip yorumlayın\n",
        "multiplying_the_original_image_with_the_mask(gray_crp_img)"
      ],
      "metadata": {
        "id": "BCYsfdbUOj_T"
      },
      "execution_count": null,
      "outputs": []
    },
    {
      "cell_type": "markdown",
      "source": [
        "## Resim 3"
      ],
      "metadata": {
        "id": "32t_t4KKNlXN"
      }
    },
    {
      "cell_type": "code",
      "source": [
        "# 3.1 , 3.2, 3.3 . Görüntü İşleme ve İyileştirme (Pre-processing)\n",
        "\n",
        "preprocess_image(crp_img_3)\n",
        "\n",
        "# 3.4 Eşik Değeri Uygula. Tek eşik değeri kullanacaksanız, Görüntülere Gauss yoğunluk dönüşümü gibi akciğer yoğunluk değerleri ile düşük ve yüksek değerleri ayıracak bir transform uygulayın\n",
        "set_threshold_number(crp_img_3)\n",
        "\n",
        "#4.1.\tGlobal Thresholding, Otsu veya skimage all filter kütüphanesini kullanarak (from skimage.filters import try_all_threshold)\n",
        "#https://scikit-image.org/docs/dev/auto_examples/segmentation/plot_thresholding.html en az 2 thresholding yöntemi  ile eşik değerlerini belirleyiniz.\n",
        "\n",
        "thresholding(crp_img_3)\n",
        "\n",
        "# bundan sonraki işlemlerde gray scale image gerekli olduğu için resmimizi grayscale'e dönüştürüyoruz\n",
        "gray_crp_img = cv.cvtColor(crp_img_3, cv.COLOR_BGR2GRAY)\n",
        "\n",
        "#4.2 Eşik değerlerini görüntülere uygulayarak binary görüntüleri görselleştirip uygun thresholding yöntemini i seçiniz. (YORUM)\n",
        "apply_thresholding(gray_crp_img , threshold=90)\n",
        "\n",
        "#4.3.1. Uygun morfolojik operatörleri, uygun structural element yapısı ve boyutunu seçerek görüntüye uygulayınız. (YORUM) Giriş ve Çıkış Görüntülerini görseleştirin\n",
        "\n",
        "st_images = apply_5_morphological_operations(gray_crp_img)\n",
        "\n",
        "#4.3.2.\tGörüntüye bağlantı bileşen analizi (connected component labeling-CCL) (cv2.connectedComponents) uygulayarak olası bölge sayısını print CCL çıktısını plot edin.\n",
        "\n",
        "connected_component_labeling(st_images[2])\n",
        "\n",
        "#4.3.3. Elde ettiğiniz labellar için, Centroid ve Area bilgilerinin kesinlikle olacağı, ayrıca bölgelerin yoğunluk ve şekilsel özelliklerini belirten en az 5 tane özniteliği print edin.\n",
        "#  o (cv2.connectedComponentsWithStats önerebilirim ama scikit-image’ın regionprops u daha iyi)\n",
        "\n",
        "load_image_and_convert_to_binary(st_images[2])\n",
        "\n",
        "# 4.3.4  Elde ettiğiniz stats ve labelsları inceleyerek akciğer alanlarını en iyi ifade eden öznitelikleri yorumlayınız.\n",
        "# Belirlediğniz özniteliklere göre filtreleme yapın. (örn: maks alana sahip ilk iki bölge,\n",
        "# if maks alana sahip iki bölge and bölgelerin centroidleri ortada; filter; else try 3. Bölge; return)\n",
        "# Belirleyici öznitelik bulunamadıysa. Her görüntüde otomatik olarak label belirleyen algoritmayı yazın\n",
        "\n",
        "lung_regions = find_lung_regions(st_images[2])\n",
        "\n",
        " # Sonuçları Yazdır\n",
        "for i, region in enumerate(lung_regions, start=1):\n",
        "        print(f\"Bölge {i}:\")\n",
        "        print(f\" - Label: {region['label']}\")\n",
        "        print(f\" - Area: {region['area']}\")\n",
        "        print(f\" - Centroid: {region['centroid']}\")\n",
        "        print(f\" - Eccentricity: {region['eccentricity']}\")\n",
        "        print(f\" - Extent: {region['extent']}\")\n",
        "\n",
        "# 4.3.5 Seçtiğiniz labela sahip filtrelenmiş görüntülere uygun morfolojik işlemleri (structural elemant tipi ve boyutu belirleyerek) uygulayın. Giriş ve çıkış görüntülerini görselleştirin\n",
        "apply_morphological_operations_open_close(st_images[2])\n",
        "\n",
        "# 6. İşlemler sonucunda elde ettiğiniz maske ile orijinal görüntüyü çarparak görüntü işleme sonuçlarını görselleştirip yorumlayın\n",
        "multiplying_the_original_image_with_the_mask(gray_crp_img)"
      ],
      "metadata": {
        "id": "SVynPXimPjxM"
      },
      "execution_count": null,
      "outputs": []
    },
    {
      "cell_type": "markdown",
      "source": [
        "##Resim 4\n"
      ],
      "metadata": {
        "id": "Pkw1tcDWNnHS"
      }
    },
    {
      "cell_type": "code",
      "source": [
        "# 3.1 , 3.2, 3.3 . Görüntü İşleme ve İyileştirme (Pre-processing)\n",
        "\n",
        "preprocess_image(crp_img_4)\n",
        "\n",
        "# 3.4 Eşik Değeri Uygula. Tek eşik değeri kullanacaksanız, Görüntülere Gauss yoğunluk dönüşümü gibi akciğer yoğunluk değerleri ile düşük ve yüksek değerleri ayıracak bir transform uygulayın\n",
        "set_threshold_number(crp_img_4)\n",
        "\n",
        "#4.1.\tGlobal Thresholding, Otsu veya skimage all filter kütüphanesini kullanarak (from skimage.filters import try_all_threshold)\n",
        "#https://scikit-image.org/docs/dev/auto_examples/segmentation/plot_thresholding.html en az 2 thresholding yöntemi  ile eşik değerlerini belirleyiniz.\n",
        "\n",
        "thresholding(crp_img_4)\n",
        "\n",
        "# bundan sonraki işlemlerde gray scale image gerekli olduğu için resmimizi grayscale'e dönüştürüyoruz\n",
        "gray_crp_img = cv.cvtColor(crp_img_4, cv.COLOR_BGR2GRAY)\n",
        "\n",
        "#4.2 Eşik değerlerini görüntülere uygulayarak binary görüntüleri görselleştirip uygun thresholding yöntemini i seçiniz. (YORUM)\n",
        "apply_thresholding(gray_crp_img , threshold=106)\n",
        "\n",
        "#4.3.1. Uygun morfolojik operatörleri, uygun structural element yapısı ve boyutunu seçerek görüntüye uygulayınız. (YORUM) Giriş ve Çıkış Görüntülerini görseleştirin\n",
        "\n",
        "st_images = apply_5_morphological_operations(gray_crp_img)\n",
        "\n",
        "#4.3.2.\tGörüntüye bağlantı bileşen analizi (connected component labeling-CCL) (cv2.connectedComponents) uygulayarak olası bölge sayısını print CCL çıktısını plot edin.\n",
        "\n",
        "connected_component_labeling(st_images[2])\n",
        "\n",
        "#4.3.3. Elde ettiğiniz labellar için, Centroid ve Area bilgilerinin kesinlikle olacağı, ayrıca bölgelerin yoğunluk ve şekilsel özelliklerini belirten en az 5 tane özniteliği print edin.\n",
        "#  o (cv2.connectedComponentsWithStats önerebilirim ama scikit-image’ın regionprops u daha iyi)\n",
        "\n",
        "load_image_and_convert_to_binary(st_images[2])\n",
        "\n",
        "# 4.3.4  Elde ettiğiniz stats ve labelsları inceleyerek akciğer alanlarını en iyi ifade eden öznitelikleri yorumlayınız.\n",
        "# Belirlediğniz özniteliklere göre filtreleme yapın. (örn: maks alana sahip ilk iki bölge,\n",
        "# if maks alana sahip iki bölge and bölgelerin centroidleri ortada; filter; else try 3. Bölge; return)\n",
        "# Belirleyici öznitelik bulunamadıysa. Her görüntüde otomatik olarak label belirleyen algoritmayı yazın\n",
        "\n",
        "lung_regions = find_lung_regions(st_images[2])\n",
        "\n",
        " # Sonuçları Yazdır\n",
        "for i, region in enumerate(lung_regions, start=1):\n",
        "        print(f\"Bölge {i}:\")\n",
        "        print(f\" - Label: {region['label']}\")\n",
        "        print(f\" - Area: {region['area']}\")\n",
        "        print(f\" - Centroid: {region['centroid']}\")\n",
        "        print(f\" - Eccentricity: {region['eccentricity']}\")\n",
        "        print(f\" - Extent: {region['extent']}\")\n",
        "\n",
        "# 4.3.5 Seçtiğiniz labela sahip filtrelenmiş görüntülere uygun morfolojik işlemleri (structural elemant tipi ve boyutu belirleyerek) uygulayın. Giriş ve çıkış görüntülerini görselleştirin\n",
        "apply_morphological_operations_open_close(st_images[2])\n",
        "\n",
        "# 6. İşlemler sonucunda elde ettiğiniz maske ile orijinal görüntüyü çarparak görüntü işleme sonuçlarını görselleştirip yorumlayın\n",
        "multiplying_the_original_image_with_the_mask(gray_crp_img)"
      ],
      "metadata": {
        "id": "bUNK5fwkPtNK"
      },
      "execution_count": null,
      "outputs": []
    },
    {
      "cell_type": "markdown",
      "source": [
        "##Resim 5"
      ],
      "metadata": {
        "id": "8VYMUOmLNoO9"
      }
    },
    {
      "cell_type": "code",
      "source": [
        "# 3.1 , 3.2, 3.3 . Görüntü İşleme ve İyileştirme (Pre-processing)\n",
        "\n",
        "preprocess_image(crp_img_5)\n",
        "\n",
        "# 3.4 Eşik Değeri Uygula. Tek eşik değeri kullanacaksanız, Görüntülere Gauss yoğunluk dönüşümü gibi akciğer yoğunluk değerleri ile düşük ve yüksek değerleri ayıracak bir transform uygulayın\n",
        "set_threshold_number(crp_img_5)\n",
        "\n",
        "#4.1.\tGlobal Thresholding, Otsu veya skimage all filter kütüphanesini kullanarak (from skimage.filters import try_all_threshold)\n",
        "#https://scikit-image.org/docs/dev/auto_examples/segmentation/plot_thresholding.html en az 2 thresholding yöntemi  ile eşik değerlerini belirleyiniz.\n",
        "\n",
        "thresholding(crp_img_5)\n",
        "\n",
        "# bundan sonraki işlemlerde gray scale image gerekli olduğu için resmimizi grayscale'e dönüştürüyoruz\n",
        "gray_crp_img = cv.cvtColor(crp_img_5, cv.COLOR_BGR2GRAY)\n",
        "\n",
        "#4.2 Eşik değerlerini görüntülere uygulayarak binary görüntüleri görselleştirip uygun thresholding yöntemini i seçiniz. (YORUM)\n",
        "apply_thresholding(gray_crp_img , threshold=140)\n",
        "\n",
        "#4.3.1. Uygun morfolojik operatörleri, uygun structural element yapısı ve boyutunu seçerek görüntüye uygulayınız. (YORUM) Giriş ve Çıkış Görüntülerini görseleştirin\n",
        "\n",
        "st_images = apply_5_morphological_operations(gray_crp_img)\n",
        "\n",
        "#4.3.2.\tGörüntüye bağlantı bileşen analizi (connected component labeling-CCL) (cv2.connectedComponents) uygulayarak olası bölge sayısını print CCL çıktısını plot edin.\n",
        "\n",
        "connected_component_labeling(st_images[2])\n",
        "\n",
        "#4.3.3. Elde ettiğiniz labellar için, Centroid ve Area bilgilerinin kesinlikle olacağı, ayrıca bölgelerin yoğunluk ve şekilsel özelliklerini belirten en az 5 tane özniteliği print edin.\n",
        "#  o (cv2.connectedComponentsWithStats önerebilirim ama scikit-image’ın regionprops u daha iyi)\n",
        "\n",
        "load_image_and_convert_to_binary(st_images[2])\n",
        "\n",
        "# 4.3.4  Elde ettiğiniz stats ve labelsları inceleyerek akciğer alanlarını en iyi ifade eden öznitelikleri yorumlayınız.\n",
        "# Belirlediğniz özniteliklere göre filtreleme yapın. (örn: maks alana sahip ilk iki bölge,\n",
        "# if maks alana sahip iki bölge and bölgelerin centroidleri ortada; filter; else try 3. Bölge; return)\n",
        "# Belirleyici öznitelik bulunamadıysa. Her görüntüde otomatik olarak label belirleyen algoritmayı yazın\n",
        "\n",
        "lung_regions = find_lung_regions(st_images[2])\n",
        "\n",
        " # Sonuçları Yazdır\n",
        "for i, region in enumerate(lung_regions, start=1):\n",
        "        print(f\"Bölge {i}:\")\n",
        "        print(f\" - Label: {region['label']}\")\n",
        "        print(f\" - Area: {region['area']}\")\n",
        "        print(f\" - Centroid: {region['centroid']}\")\n",
        "        print(f\" - Eccentricity: {region['eccentricity']}\")\n",
        "        print(f\" - Extent: {region['extent']}\")\n",
        "\n",
        "# 4.3.5 Seçtiğiniz labela sahip filtrelenmiş görüntülere uygun morfolojik işlemleri (structural elemant tipi ve boyutu belirleyerek) uygulayın. Giriş ve çıkış görüntülerini görselleştirin\n",
        "apply_morphological_operations_open_close(st_images[2])\n",
        "\n",
        "# 6. İşlemler sonucunda elde ettiğiniz maske ile orijinal görüntüyü çarparak görüntü işleme sonuçlarını görselleştirip yorumlayın\n",
        "multiplying_the_original_image_with_the_mask(gray_crp_img)"
      ],
      "metadata": {
        "id": "NC2WbBO9Pxaa"
      },
      "execution_count": null,
      "outputs": []
    },
    {
      "cell_type": "markdown",
      "source": [
        "##Resim 6"
      ],
      "metadata": {
        "id": "Tx40y4gRNqL_"
      }
    },
    {
      "cell_type": "code",
      "source": [
        "# 3.1 , 3.2, 3.3 . Görüntü İşleme ve İyileştirme (Pre-processing)\n",
        "\n",
        "preprocess_image(crp_img_6)\n",
        "\n",
        "# 3.4 Eşik Değeri Uygula. Tek eşik değeri kullanacaksanız, Görüntülere Gauss yoğunluk dönüşümü gibi akciğer yoğunluk değerleri ile düşük ve yüksek değerleri ayıracak bir transform uygulayın\n",
        "set_threshold_number(crp_img_6)\n",
        "\n",
        "#4.1.\tGlobal Thresholding, Otsu veya skimage all filter kütüphanesini kullanarak (from skimage.filters import try_all_threshold)\n",
        "#https://scikit-image.org/docs/dev/auto_examples/segmentation/plot_thresholding.html en az 2 thresholding yöntemi  ile eşik değerlerini belirleyiniz.\n",
        "\n",
        "thresholding(crp_img_6)\n",
        "\n",
        "# bundan sonraki işlemlerde gray scale image gerekli olduğu için resmimizi grayscale'e dönüştürüyoruz\n",
        "gray_crp_img = cv.cvtColor(crp_img_6, cv.COLOR_BGR2GRAY)\n",
        "\n",
        "#4.2 Eşik değerlerini görüntülere uygulayarak binary görüntüleri görselleştirip uygun thresholding yöntemini i seçiniz. (YORUM)\n",
        "apply_thresholding(gray_crp_img , threshold=123)\n",
        "\n",
        "#4.3.1. Uygun morfolojik operatörleri, uygun structural element yapısı ve boyutunu seçerek görüntüye uygulayınız. (YORUM) Giriş ve Çıkış Görüntülerini görseleştirin\n",
        "\n",
        "st_images = apply_5_morphological_operations(gray_crp_img)\n",
        "\n",
        "#4.3.2.\tGörüntüye bağlantı bileşen analizi (connected component labeling-CCL) (cv2.connectedComponents) uygulayarak olası bölge sayısını print CCL çıktısını plot edin.\n",
        "\n",
        "connected_component_labeling(st_images[2])\n",
        "\n",
        "#4.3.3. Elde ettiğiniz labellar için, Centroid ve Area bilgilerinin kesinlikle olacağı, ayrıca bölgelerin yoğunluk ve şekilsel özelliklerini belirten en az 5 tane özniteliği print edin.\n",
        "#  o (cv2.connectedComponentsWithStats önerebilirim ama scikit-image’ın regionprops u daha iyi)\n",
        "\n",
        "load_image_and_convert_to_binary(st_images[2])\n",
        "\n",
        "# 4.3.4  Elde ettiğiniz stats ve labelsları inceleyerek akciğer alanlarını en iyi ifade eden öznitelikleri yorumlayınız.\n",
        "# Belirlediğniz özniteliklere göre filtreleme yapın. (örn: maks alana sahip ilk iki bölge,\n",
        "# if maks alana sahip iki bölge and bölgelerin centroidleri ortada; filter; else try 3. Bölge; return)\n",
        "# Belirleyici öznitelik bulunamadıysa. Her görüntüde otomatik olarak label belirleyen algoritmayı yazın\n",
        "\n",
        "lung_regions = find_lung_regions(st_images[2])\n",
        "\n",
        " # Sonuçları Yazdır\n",
        "for i, region in enumerate(lung_regions, start=1):\n",
        "        print(f\"Bölge {i}:\")\n",
        "        print(f\" - Label: {region['label']}\")\n",
        "        print(f\" - Area: {region['area']}\")\n",
        "        print(f\" - Centroid: {region['centroid']}\")\n",
        "        print(f\" - Eccentricity: {region['eccentricity']}\")\n",
        "        print(f\" - Extent: {region['extent']}\")\n",
        "\n",
        "# 4.3.5 Seçtiğiniz labela sahip filtrelenmiş görüntülere uygun morfolojik işlemleri (structural elemant tipi ve boyutu belirleyerek) uygulayın. Giriş ve çıkış görüntülerini görselleştirin\n",
        "apply_morphological_operations_open_close(st_images[2])\n",
        "\n",
        "# 6. İşlemler sonucunda elde ettiğiniz maske ile orijinal görüntüyü çarparak görüntü işleme sonuçlarını görselleştirip yorumlayın\n",
        "multiplying_the_original_image_with_the_mask(gray_crp_img)"
      ],
      "metadata": {
        "id": "2GVZgCYYP0vG"
      },
      "execution_count": null,
      "outputs": []
    },
    {
      "cell_type": "markdown",
      "source": [
        "##Resim 7"
      ],
      "metadata": {
        "id": "ZHVrmHTXNrcf"
      }
    },
    {
      "cell_type": "code",
      "source": [
        "# 3.1 , 3.2, 3.3 . Görüntü İşleme ve İyileştirme (Pre-processing)\n",
        "\n",
        "preprocess_image(crp_img_7)\n",
        "\n",
        "# 3.4 Eşik Değeri Uygula. Tek eşik değeri kullanacaksanız, Görüntülere Gauss yoğunluk dönüşümü gibi akciğer yoğunluk değerleri ile düşük ve yüksek değerleri ayıracak bir transform uygulayın\n",
        "set_threshold_number(crp_img_7)\n",
        "\n",
        "#4.1.\tGlobal Thresholding, Otsu veya skimage all filter kütüphanesini kullanarak (from skimage.filters import try_all_threshold)\n",
        "#https://scikit-image.org/docs/dev/auto_examples/segmentation/plot_thresholding.html en az 2 thresholding yöntemi  ile eşik değerlerini belirleyiniz.\n",
        "\n",
        "thresholding(crp_img_7)\n",
        "\n",
        "# bundan sonraki işlemlerde gray scale image gerekli olduğu için resmimizi grayscale'e dönüştürüyoruz\n",
        "gray_crp_img = cv.cvtColor(crp_img_7, cv.COLOR_BGR2GRAY)\n",
        "\n",
        "#4.2 Eşik değerlerini görüntülere uygulayarak binary görüntüleri görselleştirip uygun thresholding yöntemini i seçiniz. (YORUM)\n",
        "apply_thresholding(gray_crp_img , threshold=112)\n",
        "\n",
        "#4.3.1. Uygun morfolojik operatörleri, uygun structural element yapısı ve boyutunu seçerek görüntüye uygulayınız. (YORUM) Giriş ve Çıkış Görüntülerini görseleştirin\n",
        "\n",
        "st_images = apply_5_morphological_operations(gray_crp_img)\n",
        "\n",
        "#4.3.2.\tGörüntüye bağlantı bileşen analizi (connected component labeling-CCL) (cv2.connectedComponents) uygulayarak olası bölge sayısını print CCL çıktısını plot edin.\n",
        "\n",
        "connected_component_labeling(st_images[2])\n",
        "\n",
        "#4.3.3. Elde ettiğiniz labellar için, Centroid ve Area bilgilerinin kesinlikle olacağı, ayrıca bölgelerin yoğunluk ve şekilsel özelliklerini belirten en az 5 tane özniteliği print edin.\n",
        "#  o (cv2.connectedComponentsWithStats önerebilirim ama scikit-image’ın regionprops u daha iyi)\n",
        "\n",
        "load_image_and_convert_to_binary(st_images[2])\n",
        "\n",
        "# 4.3.4  Elde ettiğiniz stats ve labelsları inceleyerek akciğer alanlarını en iyi ifade eden öznitelikleri yorumlayınız.\n",
        "# Belirlediğniz özniteliklere göre filtreleme yapın. (örn: maks alana sahip ilk iki bölge,\n",
        "# if maks alana sahip iki bölge and bölgelerin centroidleri ortada; filter; else try 3. Bölge; return)\n",
        "# Belirleyici öznitelik bulunamadıysa. Her görüntüde otomatik olarak label belirleyen algoritmayı yazın\n",
        "\n",
        "lung_regions = find_lung_regions(st_images[2])\n",
        "\n",
        " # Sonuçları Yazdır\n",
        "for i, region in enumerate(lung_regions, start=1):\n",
        "        print(f\"Bölge {i}:\")\n",
        "        print(f\" - Label: {region['label']}\")\n",
        "        print(f\" - Area: {region['area']}\")\n",
        "        print(f\" - Centroid: {region['centroid']}\")\n",
        "        print(f\" - Eccentricity: {region['eccentricity']}\")\n",
        "        print(f\" - Extent: {region['extent']}\")\n",
        "\n",
        "# 4.3.5 Seçtiğiniz labela sahip filtrelenmiş görüntülere uygun morfolojik işlemleri (structural elemant tipi ve boyutu belirleyerek) uygulayın. Giriş ve çıkış görüntülerini görselleştirin\n",
        "apply_morphological_operations_open_close(st_images[2])\n",
        "\n",
        "# 6. İşlemler sonucunda elde ettiğiniz maske ile orijinal görüntüyü çarparak görüntü işleme sonuçlarını görselleştirip yorumlayın\n",
        "multiplying_the_original_image_with_the_mask(gray_crp_img)"
      ],
      "metadata": {
        "id": "aYFs8ZHWP5Em"
      },
      "execution_count": null,
      "outputs": []
    },
    {
      "cell_type": "markdown",
      "source": [
        "##Resim 8"
      ],
      "metadata": {
        "id": "8BJPE-CPNslD"
      }
    },
    {
      "cell_type": "code",
      "source": [
        "# 3.1 , 3.2, 3.3 . Görüntü İşleme ve İyileştirme (Pre-processing)\n",
        "\n",
        "preprocess_image(crp_img_8)\n",
        "\n",
        "# 3.4 Eşik Değeri Uygula. Tek eşik değeri kullanacaksanız, Görüntülere Gauss yoğunluk dönüşümü gibi akciğer yoğunluk değerleri ile düşük ve yüksek değerleri ayıracak bir transform uygulayın\n",
        "set_threshold_number(crp_img_8)\n",
        "\n",
        "#4.1.\tGlobal Thresholding, Otsu veya skimage all filter kütüphanesini kullanarak (from skimage.filters import try_all_threshold)\n",
        "#https://scikit-image.org/docs/dev/auto_examples/segmentation/plot_thresholding.html en az 2 thresholding yöntemi  ile eşik değerlerini belirleyiniz.\n",
        "\n",
        "thresholding(crp_img_8)\n",
        "\n",
        "# bundan sonraki işlemlerde gray scale image gerekli olduğu için resmimizi grayscale'e dönüştürüyoruz\n",
        "gray_crp_img = cv.cvtColor(crp_img_8, cv.COLOR_BGR2GRAY)\n",
        "\n",
        "#4.2 Eşik değerlerini görüntülere uygulayarak binary görüntüleri görselleştirip uygun thresholding yöntemini i seçiniz. (YORUM)\n",
        "apply_thresholding(gray_crp_img , threshold=140)\n",
        "\n",
        "#4.3.1. Uygun morfolojik operatörleri, uygun structural element yapısı ve boyutunu seçerek görüntüye uygulayınız. (YORUM) Giriş ve Çıkış Görüntülerini görseleştirin\n",
        "\n",
        "st_images = apply_5_morphological_operations(gray_crp_img)\n",
        "\n",
        "#4.3.2.\tGörüntüye bağlantı bileşen analizi (connected component labeling-CCL) (cv2.connectedComponents) uygulayarak olası bölge sayısını print CCL çıktısını plot edin.\n",
        "\n",
        "connected_component_labeling(st_images[2])\n",
        "\n",
        "#4.3.3. Elde ettiğiniz labellar için, Centroid ve Area bilgilerinin kesinlikle olacağı, ayrıca bölgelerin yoğunluk ve şekilsel özelliklerini belirten en az 5 tane özniteliği print edin.\n",
        "#  o (cv2.connectedComponentsWithStats önerebilirim ama scikit-image’ın regionprops u daha iyi)\n",
        "\n",
        "load_image_and_convert_to_binary(st_images[2])\n",
        "\n",
        "# 4.3.4  Elde ettiğiniz stats ve labelsları inceleyerek akciğer alanlarını en iyi ifade eden öznitelikleri yorumlayınız.\n",
        "# Belirlediğniz özniteliklere göre filtreleme yapın. (örn: maks alana sahip ilk iki bölge,\n",
        "# if maks alana sahip iki bölge and bölgelerin centroidleri ortada; filter; else try 3. Bölge; return)\n",
        "# Belirleyici öznitelik bulunamadıysa. Her görüntüde otomatik olarak label belirleyen algoritmayı yazın\n",
        "\n",
        "lung_regions = find_lung_regions(st_images[2])\n",
        "\n",
        " # Sonuçları Yazdır\n",
        "for i, region in enumerate(lung_regions, start=1):\n",
        "        print(f\"Bölge {i}:\")\n",
        "        print(f\" - Label: {region['label']}\")\n",
        "        print(f\" - Area: {region['area']}\")\n",
        "        print(f\" - Centroid: {region['centroid']}\")\n",
        "        print(f\" - Eccentricity: {region['eccentricity']}\")\n",
        "        print(f\" - Extent: {region['extent']}\")\n",
        "\n",
        "# 4.3.5 Seçtiğiniz labela sahip filtrelenmiş görüntülere uygun morfolojik işlemleri (structural elemant tipi ve boyutu belirleyerek) uygulayın. Giriş ve çıkış görüntülerini görselleştirin\n",
        "apply_morphological_operations_open_close(st_images[2])\n",
        "\n",
        "# 6. İşlemler sonucunda elde ettiğiniz maske ile orijinal görüntüyü çarparak görüntü işleme sonuçlarını görselleştirip yorumlayın\n",
        "multiplying_the_original_image_with_the_mask(gray_crp_img)"
      ],
      "metadata": {
        "id": "zIDwhK_eP85d"
      },
      "execution_count": null,
      "outputs": []
    },
    {
      "cell_type": "markdown",
      "source": [
        "##Resim 9"
      ],
      "metadata": {
        "id": "6yZ2geHJNuns"
      }
    },
    {
      "cell_type": "code",
      "source": [
        "# 3.1 , 3.2, 3.3 . Görüntü İşleme ve İyileştirme (Pre-processing)\n",
        "\n",
        "preprocess_image(crp_img_9)\n",
        "\n",
        "# 3.4 Eşik Değeri Uygula. Tek eşik değeri kullanacaksanız, Görüntülere Gauss yoğunluk dönüşümü gibi akciğer yoğunluk değerleri ile düşük ve yüksek değerleri ayıracak bir transform uygulayın\n",
        "set_threshold_number(crp_img_9)\n",
        "\n",
        "#4.1.\tGlobal Thresholding, Otsu veya skimage all filter kütüphanesini kullanarak (from skimage.filters import try_all_threshold)\n",
        "#https://scikit-image.org/docs/dev/auto_examples/segmentation/plot_thresholding.html en az 2 thresholding yöntemi  ile eşik değerlerini belirleyiniz.\n",
        "\n",
        "thresholding(crp_img_9)\n",
        "\n",
        "# bundan sonraki işlemlerde gray scale image gerekli olduğu için resmimizi grayscale'e dönüştürüyoruz\n",
        "gray_crp_img = cv.cvtColor(crp_img_9, cv.COLOR_BGR2GRAY)\n",
        "\n",
        "#4.2 Eşik değerlerini görüntülere uygulayarak binary görüntüleri görselleştirip uygun thresholding yöntemini i seçiniz. (YORUM)\n",
        "apply_thresholding(gray_crp_img , threshold=112)\n",
        "\n",
        "#4.3.1. Uygun morfolojik operatörleri, uygun structural element yapısı ve boyutunu seçerek görüntüye uygulayınız. (YORUM) Giriş ve Çıkış Görüntülerini görseleştirin\n",
        "\n",
        "st_images = apply_5_morphological_operations(gray_crp_img)\n",
        "\n",
        "#4.3.2.\tGörüntüye bağlantı bileşen analizi (connected component labeling-CCL) (cv2.connectedComponents) uygulayarak olası bölge sayısını print CCL çıktısını plot edin.\n",
        "\n",
        "connected_component_labeling(st_images[2])\n",
        "\n",
        "#4.3.3. Elde ettiğiniz labellar için, Centroid ve Area bilgilerinin kesinlikle olacağı, ayrıca bölgelerin yoğunluk ve şekilsel özelliklerini belirten en az 5 tane özniteliği print edin.\n",
        "#  o (cv2.connectedComponentsWithStats önerebilirim ama scikit-image’ın regionprops u daha iyi)\n",
        "\n",
        "load_image_and_convert_to_binary(st_images[2])\n",
        "\n",
        "# 4.3.4  Elde ettiğiniz stats ve labelsları inceleyerek akciğer alanlarını en iyi ifade eden öznitelikleri yorumlayınız.\n",
        "# Belirlediğniz özniteliklere göre filtreleme yapın. (örn: maks alana sahip ilk iki bölge,\n",
        "# if maks alana sahip iki bölge and bölgelerin centroidleri ortada; filter; else try 3. Bölge; return)\n",
        "# Belirleyici öznitelik bulunamadıysa. Her görüntüde otomatik olarak label belirleyen algoritmayı yazın\n",
        "\n",
        "lung_regions = find_lung_regions(st_images[2])\n",
        "\n",
        " # Sonuçları Yazdır\n",
        "for i, region in enumerate(lung_regions, start=1):\n",
        "        print(f\"Bölge {i}:\")\n",
        "        print(f\" - Label: {region['label']}\")\n",
        "        print(f\" - Area: {region['area']}\")\n",
        "        print(f\" - Centroid: {region['centroid']}\")\n",
        "        print(f\" - Eccentricity: {region['eccentricity']}\")\n",
        "        print(f\" - Extent: {region['extent']}\")\n",
        "\n",
        "# 4.3.5 Seçtiğiniz labela sahip filtrelenmiş görüntülere uygun morfolojik işlemleri (structural elemant tipi ve boyutu belirleyerek) uygulayın. Giriş ve çıkış görüntülerini görselleştirin\n",
        "apply_morphological_operations_open_close(st_images[2])\n",
        "\n",
        "# 6. İşlemler sonucunda elde ettiğiniz maske ile orijinal görüntüyü çarparak görüntü işleme sonuçlarını görselleştirip yorumlayın\n",
        "multiplying_the_original_image_with_the_mask(gray_crp_img)"
      ],
      "metadata": {
        "id": "ljLLeAcyP_04"
      },
      "execution_count": null,
      "outputs": []
    }
  ]
}